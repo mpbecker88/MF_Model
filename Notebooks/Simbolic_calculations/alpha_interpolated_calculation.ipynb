{
 "cells": [
  {
   "cell_type": "code",
   "execution_count": 1,
   "metadata": {},
   "outputs": [],
   "source": [
    "from sympy import *\n",
    "import numpy as np\n",
    "import matplotlib\n",
    "import matplotlib.pyplot as plt\n",
    "# from scipy import integrate\n",
    "\n",
    "# Customize matplotlib\n",
    "matplotlib.rcParams.update(\n",
    "\t{\n",
    "\t\t'text.usetex': False,\n",
    "\t\t'font.family': 'stixgeneral',\n",
    "\t\t'mathtext.fontset': 'stix',\n",
    "\t\t'font.size': 22,\n",
    "\t\t'ytick.color' : 'black',\n",
    "\t\t\"xtick.color\" : 'black',\n",
    "\t\t'axes.labelcolor' : 'black',\n",
    "\t\t'axes.edgecolor' : 'black'\n",
    "\t}\n",
    ")"
   ]
  },
  {
   "cell_type": "code",
   "execution_count": 12,
   "metadata": {},
   "outputs": [],
   "source": [
    "EE = symbols('E_E', constant=True)\n",
    "EI = symbols('E_I', constant=True)\n",
    "EL = symbols('E_L', constant=True)\n",
    "tauE = symbols('tau_E', constant=True, positive=True)\n",
    "tauA = symbols('tau_A', constant=True, positive=True)\n",
    "tauN = symbols('tau_N', constant=True, positive=True)\n",
    "tauI = symbols('tau_I', constant=True, positive=True)\n",
    "tauL = symbols('tau_L', constant=True, positive=True)\n",
    "tau = symbols('tau', constant=True, positive=True)\n",
    "sigmaV = symbols('sigma_V', constant=True, positive=True)\n",
    "nu = symbols('nu', constant=True, positive=True)\n",
    "mu = symbols('mu', constant=True, positive=True)\n",
    "sigmaE = symbols('sigma_E', constant=True, positive=True)\n",
    "sigmaI = symbols('sigma_I', constant=True, positive=True)\n",
    "V = symbols('V', positive=False)\n",
    "wE = symbols('w_E', constant=True, positive=True)\n",
    "wI = symbols('w_I', constant=True, positive=True)\n",
    "KE = symbols('K_E', constant=True, positive=True)\n",
    "KI = symbols('K_I', constant=True, positive=True)\n",
    "nuE = symbols('nu_E', constant=True, positive=True)\n",
    "alpha = symbols('alpha', constant=True, positive=True)\n",
    "beta = symbols('beta', constant=True)\n",
    "gamma = symbols('gamma', constant=True)\n",
    "Mg = symbols('[Mg^2+]')\n",
    "muA = wE*KE*nu*tauA\n",
    "muN = wE*KE*nu*tauN\n",
    "muI = wI*KI*nu*tauI\n",
    "sigmaA = wE*sqrt(KE*nu*tauA)\n",
    "sigmaN = wE*sqrt(KE*nu*tauN)\n",
    "sigmaI = wI*sqrt(KI*nu*tauI)\n",
    "s = 1\n",
    "tau = tauL/(1 + (1 - alpha)*muA + alpha*s*muN + muI)\n",
    "mu = (tau/tauL)*(EL + ((1 - alpha)*muA + alpha*s*muN)*EE + muI*EI)\n",
    "\n",
    "\n",
    "W0 = (mu - V) / tau\n",
    "WA = (1 - alpha) * sigmaA * (EE - V) / tauL\n",
    "WN = alpha * s * sigmaN * (EE - V) / tauL\n",
    "WI = sigmaI * (EI - V) / tauL\n",
    "dW0 = diff(W0, V)\n",
    "dWA = diff(WA, V)\n",
    "dWN = diff(WN, V)\n",
    "dWI = diff(WI, V)\n",
    "\n",
    "S0 = -W0\n",
    "SA = (1/2) * WA / (1 - tauA*(dW0 - (dWA / WA) * W0))\n",
    "SN = (1/2) * WN / (1 - tauN*(dW0 - (dWN / WN) * W0))\n",
    "SI = (1/2) * WI / (1 - tauI*(dW0 - (dWI / WI) * W0))\n",
    "FA = (1 - tauA*(dW0 - (dWA / WA) * W0))\n",
    "FN = (1 - tauN*(dW0 - (dWN / WN) * W0))\n",
    "dSA = diff(SA, V)\n",
    "dSN = diff(SN, V)\n",
    "dSI = diff(SI, V)\n",
    "\n",
    "Xi = ((WA*SA + WN*SN + WI*SI))\n",
    "\n",
    "B = (S0 + (WA * dSA) + (WN * dSN) + (WI * dSI)) / Xi\n",
    "H = Heaviside(V - EL)/Xi\n",
    "H = H.subs({EE:0, EL:-60, tauL:20, tauA:5, tauN:100, KE:400, nu:0.02, wE:0.1, tauI:10, EI:-80, wI:0.4, KI:100, alpha:0.7, beta:0.062, gamma:3.57, Mg:1})\n",
    "B = B.subs({EE:0, EL:-60, tauL:20, tauA:5, tauN:100, KE:400, nu:0.02, wE:0.1, tauI:10, EI:-80, wI:0.4, KI:100, alpha:0.7, beta:0.062, gamma:3.57, Mg:1})\n",
    "FA = FA.subs({EE:0, EL:-60, tauL:20, tauA:5, tauN:100, KE:400, nu:0.02, wE:0.1, tauI:10, EI:-80, wI:0.4, KI:100, alpha:0.7, beta:0.062, gamma:3.57, Mg:1})\n",
    "WA = WA.subs({EE:0, EL:-60, tauL:20, tauA:5, tauN:100, KE:400, nu:0.02, wE:0.1, tauI:10, EI:-80, wI:0.4, KI:100, alpha:0.7, beta:0.062, gamma:3.57, Mg:1})\n",
    "H = lambdify(V,H)\n",
    "B = lambdify(V,B)\n",
    "FA = lambdify(V,FA)\n",
    "WA = lambdify(V,WA)\n",
    "\n",
    "\n",
    "# simplify(sAN)\n"
   ]
  },
  {
   "cell_type": "code",
   "execution_count": 13,
   "metadata": {},
   "outputs": [
    {
     "data": {
      "text/plain": [
       "[<matplotlib.lines.Line2D at 0x7f72293ab0a0>]"
      ]
     },
     "execution_count": 13,
     "metadata": {},
     "output_type": "execute_result"
    },
    {
     "data": {
      "image/png": "[encoded data removed]",
      "text/plain": [
       "<Figure size 432x288 with 1 Axes>"
      ]
     },
     "metadata": {
      "needs_background": "light"
     },
     "output_type": "display_data"
    }
   ],
   "source": [
    "vec_Vk = np.linspace(-80, -50, 30000 + 1, dtype=np.longdouble)\n",
    "plt.plot(vec_Vk, FA(vec_Vk))"
   ]
  },
  {
   "cell_type": "code",
   "execution_count": 22,
   "metadata": {},
   "outputs": [
    {
     "data": {
      "text/plain": [
       "[<matplotlib.lines.Line2D at 0x7fc2aa1f5820>]"
      ]
     },
     "execution_count": 22,
     "metadata": {},
     "output_type": "execute_result"
    },
    {
     "data": {
      "image/png": "[encoded data removed]",
      "text/plain": [
       "<Figure size 432x288 with 1 Axes>"
      ]
     },
     "metadata": {
      "needs_background": "light"
     },
     "output_type": "display_data"
    }
   ],
   "source": [
    "sAN_f = lambdify(tauE, sAN.subs({EE:0, EL:-60, tauL:20, tauA:1, tauN:100, KE:400, nu:0.005, wE:0.1, tauI:10, EI:-80, wI:0.4, KI:100}))\n",
    "sE_f = lambdify(tauE, sE.subs({EE:0, EL:-60, tauL:20, tauA:1, tauN:100, KE:400, nu:0.005, wE:0.1, tauI:10, EI:-80, wI:0.4, KI:100}))\n",
    "\n",
    "vec_x = np.linspace(1, 100, 1000)\n",
    "plt.plot(vec_x, sE_f(vec_x), 'b-')\n",
    "plt.plot(vec_x, sAN_f(vec_x), 'r-')\n",
    "# sAN.subs({EE:0, EL:-60, tauL:20, tauA:5, tauN:100, KE:400, nu:0.005, wE:0.1, tauI:10, EI:-80, wI:0.4, KI:100})"
   ]
  },
  {
   "cell_type": "code",
   "execution_count": 71,
   "metadata": {},
   "outputs": [
    {
     "data": {
      "text/plain": [
       "[<matplotlib.lines.Line2D at 0x7f7a53bb0e50>]"
      ]
     },
     "execution_count": 71,
     "metadata": {},
     "output_type": "execute_result"
    },
    {
     "data": {
      "image/png": "[encoded data removed]",
      "text/plain": [
       "<Figure size 432x288 with 1 Axes>"
      ]
     },
     "metadata": {
      "needs_background": "light"
     },
     "output_type": "display_data"
    }
   ],
   "source": [
    "f0 = lambdify(V, B0.subs({EE:0, EL:-60, tauL:20, tauE:100, KE:400, nu:0.005, wE:0.1, tauI:10, EI:-80, wI:0.4, KI:100}))\n",
    "fE = lambdify(V, BE.subs({EE:0, EL:-60, tauL:20, tauE:100, KE:400, nu:0.005, wE:0.1, tauI:10, EI:-80, wI:0.4, KI:100}))\n",
    "fI = lambdify(V, BI.subs({EE:0, EL:-60, tauL:20, tauE:100, KE:400, nu:0.005, wE:0.1, tauI:10, EI:-80, wI:0.4, KI:100}))\n",
    "f = lambdify(V, B.subs({EE:0, EL:-60, tauL:20, tauE:100, KE:400, nu:0.005, wE:0.1, tauI:10, EI:-80, wI:0.4, KI:100}))\n",
    "vec_x = np.linspace(-1000, -50, 1000)\n",
    "plt.plot(vec_x, f0(vec_x))\n",
    "plt.plot(vec_x, fE(vec_x))\n",
    "plt.plot(vec_x, fI(vec_x))\n",
    "plt.plot(vec_x, f(vec_x))"
   ]
  },
  {
   "cell_type": "code",
   "execution_count": null,
   "metadata": {},
   "outputs": [],
   "source": [
    "x = symbols('x')\n",
    "an = symbols('a_n', constant=True)\n",
    "bn = symbols('b_n', constant=True)\n",
    "cn = symbols('c_n', constant=True)\n",
    "dn = symbols('d_n', constant=True)\n",
    "\n",
    "ad = symbols('a_d', constant=True)\n",
    "bd = symbols('b_d', constant=True)\n",
    "cd = symbols('c_d', constant=True)\n",
    "dd = symbols('d_d', constant=True)\n",
    "ed = symbols('e_d', constant=True)\n",
    "\n",
    "num_generic = poly(an*x + bn*x**2 + cn*x**3 + dn*x**4)\n",
    "den_generic = poly(ad*x + bd*x**2 + cd*x**3 + dd*x**4 + ed*x**5)\n",
    "\n",
    "expression = num_generic/den_generic\n",
    "\n",
    "integrate(expression, x)\n"
   ]
  },
  {
   "cell_type": "code",
   "execution_count": 28,
   "metadata": {},
   "outputs": [
    {
     "data": {
      "text/plain": [
       "[<matplotlib.lines.Line2D at 0x7f39d1fd0c10>]"
      ]
     },
     "execution_count": 28,
     "metadata": {},
     "output_type": "execute_result"
    },
    {
     "data": {
      "image/png": "[encoded data removed]",
      "text/plain": [
       "<Figure size 432x288 with 1 Axes>"
      ]
     },
     "metadata": {
      "needs_background": "light"
     },
     "output_type": "display_data"
    }
   ],
   "source": [
    "IE_is = IE_i.subs({EE:0, EL:-60, tauL:20, tauE:5, KE:400, nuE:0.005, wE:0.4})\n",
    "\n",
    "IE_if = lambdify(V, IE_is)\n",
    "vec_x = np.linspace(-100, -50, 1000)\n",
    "vec_IE = IE_if(vec_x)\n",
    "\n",
    "plt.plot(vec_x, vec_IE)\n"
   ]
  },
  {
   "cell_type": "code",
   "execution_count": 45,
   "metadata": {},
   "outputs": [
    {
     "data": {
      "text/plain": [
       "[<matplotlib.lines.Line2D at 0x7f39d0bfd6a0>]"
      ]
     },
     "execution_count": 45,
     "metadata": {},
     "output_type": "execute_result"
    },
    {
     "data": {
      "image/png": "[encoded data removed]",
      "text/plain": [
       "<Figure size 432x288 with 1 Axes>"
      ]
     },
     "metadata": {
      "needs_background": "light"
     },
     "output_type": "display_data"
    }
   ],
   "source": [
    "def IE(x):\n",
    "    return integrate.quad(IE_if, -np.inf, x, limit=1000)[0]\n",
    "IE = np.vectorize(IE)\n",
    "integrand = ((EE - V)**(2*tauL**2/(sigmaE**2*tau*tauE))/hE*exp(LE)).subs({EE:0, EL:-60, tauL:20, tauE:5, KE:400, nuE:0.005, wE:0.4})\n",
    "ii = lambdify(V, integrand)\n",
    "vec_ii = ii(vec_x)*IE(vec_x)\n",
    "\n",
    "plt.plot(vec_x, vec_ii)\n",
    "# integrand"
   ]
  },
  {
   "cell_type": "code",
   "execution_count": 21,
   "metadata": {},
   "outputs": [
    {
     "data": {
      "text/latex": [
       "$\\displaystyle \\frac{\\sigma_{E}^{2} \\tau \\tau_{E} \\left(E_{E} - \\mu\\right)^{2}}{2 \\tau_{L}^{2} \\left(\\tau + \\tau_{E}\\right)}$"
      ],
      "text/plain": [
       "sigma_E**2*tau*tau_E*(E_E - mu)**2/(2*tau_L**2*(tau + tau_E))"
      ]
     },
     "execution_count": 21,
     "metadata": {},
     "output_type": "execute_result"
    }
   ],
   "source": [
    "simplify((hE*FE).subs({V:mu}))"
   ]
  },
  {
   "cell_type": "code",
   "execution_count": 13,
   "metadata": {},
   "outputs": [
    {
     "data": {
      "text/latex": [
       "$\\displaystyle \\frac{\\sqrt{5} \\left(26.5165042944955 - 1.76776695296637 V\\right) e^{\\frac{29.296875 - 11.71875 V}{V^{2}}}}{\\left(- V\\right)^{2.009765625}}$"
      ],
      "text/plain": [
       "sqrt(5)*(-V)**(-2.009765625)*(26.5165042944955 - 1.76776695296637*V)*exp((29.296875 - 11.71875*V)/V**2)"
      ]
     },
     "execution_count": 13,
     "metadata": {},
     "output_type": "execute_result"
    }
   ],
   "source": [
    "integrand = simplify((EE - V)**(-tau/(sigmaE**2*tau**4))*exp(-LE)/FE)\n",
    "integrands = simplify(integrand.subs({EE:0, EL:-60, tauL:20, tauE:5, KE:400, nuE:0.005, wE:0.4}))\n",
    "\n",
    "\n",
    "# f = lambdify(V, integrands)\n",
    "# data = np.linspace(-100, -50, 1000)\n",
    "# plt.plot(data, f(data))\n",
    "integrands"
   ]
  },
  {
   "cell_type": "code",
   "execution_count": 5,
   "metadata": {},
   "outputs": [
    {
     "data": {
      "text/latex": [
       "$\\displaystyle \\frac{\\tau_{L}^{2} \\left(2 E_{E}^{2} \\tau - E_{E}^{2} \\tau_{E} - 2 E_{E} \\mu \\tau - 2 V \\left(E_{E} \\tau - E_{E} \\tau_{E} - \\mu \\tau + \\mu \\tau_{E}\\right) + \\mu^{2} \\tau_{E} + 2 \\tau \\left(E_{E}^{2} - 2 E_{E} V + V^{2}\\right) \\log{\\left(- E_{E} + V \\right)}\\right)}{\\sigma_{E}^{2} \\tau^{2} \\tau_{E} \\left(E_{E}^{2} - 2 E_{E} V + V^{2}\\right)}$"
      ],
      "text/plain": [
       "tau_L**2*(2*E_E**2*tau - E_E**2*tau_E - 2*E_E*mu*tau - 2*V*(E_E*tau - E_E*tau_E - mu*tau + mu*tau_E) + mu**2*tau_E + 2*tau*(E_E**2 - 2*E_E*V + V**2)*log(-E_E + V))/(sigma_E**2*tau**2*tau_E*(E_E**2 - 2*E_E*V + V**2))"
      ]
     },
     "execution_count": 5,
     "metadata": {},
     "output_type": "execute_result"
    }
   ],
   "source": [
    "x = symbols('x')\n",
    "integrand = (V - mu)/(hE*FE*tau)\n",
    "I = simplify(integrand)\n",
    "I\n",
    "simplify(integrate(I, V))"
   ]
  },
  {
   "cell_type": "code",
   "execution_count": 21,
   "metadata": {},
   "outputs": [
    {
     "data": {
      "text/latex": [
       "$\\displaystyle - \\frac{0.113137084989848 V^{2}}{V - 15}$"
      ],
      "text/plain": [
       "-0.113137084989848*V**2/(V - 15)"
      ]
     },
     "execution_count": 21,
     "metadata": {},
     "output_type": "execute_result"
    }
   ],
   "source": [
    "# hA/(1 + (tauA/tau)*(1 - (dhAdV/hA)*(V-mu)))\n",
    "hA\n",
    "FAs"
   ]
  },
  {
   "cell_type": "code",
   "execution_count": 22,
   "metadata": {},
   "outputs": [
    {
     "data": {
      "text/plain": [
       "[<matplotlib.lines.Line2D at 0x7faaed93ba60>]"
      ]
     },
     "execution_count": 22,
     "metadata": {},
     "output_type": "execute_result"
    },
    {
     "data": {
      "image/png": "[encoded data removed]",
      "text/plain": [
       "<Figure size 432x288 with 1 Axes>"
      ]
     },
     "metadata": {
      "needs_background": "dark"
     },
     "output_type": "display_data"
    }
   ],
   "source": [
    "FA = simplify(FA)\n",
    "FAs = simplify(FA.subs({EE:0, EL:-60, tauL:20, tauA:5, KE:400, nuE:0.005, wE:0.4}))\n",
    "\n",
    "f = lambdify(V, FAs)\n",
    "data = np.linspace(-100, 100, 1000)\n",
    "plt.plot(data, f(data))"
   ]
  },
  {
   "cell_type": "code",
   "execution_count": 42,
   "metadata": {
    "collapsed": true,
    "jupyter": {
     "outputs_hidden": true
    }
   },
   "outputs": [],
   "source": [
    "x = symbols('x')\n",
    "# FA = symbols('F_A')\n",
    "\n",
    "exponent = (-tauL**2*(EE - mu)/(sigmaA**2*tau**2*tauA*(EE - V)) * (2*tau - tauA*(EE - 2*V + mu)/(EE-V)))\n",
    "# exponent\n",
    "\n",
    "coeff = ((EE - V)**(-2*tauL**2/(sigmaA**2*tau*tauA)))/FA\n",
    "coeff\n",
    "\n",
    "integrand = coeff*exp(exponent)\n",
    "integrand = simplify(integrand)\n",
    "# integrand\n",
    "\n",
    "# integrand\n",
    "# I = integrate(integrand, (V, -oo, x))\n",
    "# collect(collect(collect(collect(factor(GA), log(-EE + V)), V), EE), mu)\n",
    "# integrand.subs"
   ]
  },
  {
   "cell_type": "code",
   "execution_count": 47,
   "metadata": {},
   "outputs": [
    {
     "data": {
      "text/plain": [
       "[<matplotlib.lines.Line2D at 0x7faaed353e20>]"
      ]
     },
     "execution_count": 47,
     "metadata": {},
     "output_type": "execute_result"
    },
    {
     "data": {
      "image/png": "[encoded data removed]",
      "text/plain": [
       "<Figure size 432x288 with 1 Axes>"
      ]
     },
     "metadata": {
      "needs_background": "dark"
     },
     "output_type": "display_data"
    }
   ],
   "source": [
    "expr = integrand.subs({EE:0, EL:-60, tauL:20, tauA:5, KE:400, nuE:0.005, wE:0.4})\n",
    "expr = simplify(expr)\n",
    "f = lambdify(V, expr)\n",
    "data = np.linspace(-60, -50, 1000)\n",
    "# f(data)\n",
    "plt.plot(data, f(data))\n",
    "# expr"
   ]
  },
  {
   "cell_type": "code",
   "execution_count": 57,
   "metadata": {},
   "outputs": [
    {
     "data": {
      "text/latex": [
       "$\\displaystyle \\frac{5.005 \\sqrt{5} \\left(300 - 20 V\\right) e^{\\frac{0.002 \\left(- 598200.0 V - 18000\\right)}{V^{2}}}}{V^{82.08}}$"
      ],
      "text/plain": [
       "5.005*sqrt(5)*V**(-82.08)*(300 - 20*V)*exp(0.002*(-598200.0*V - 18000)/V**2)"
      ]
     },
     "execution_count": 57,
     "metadata": {},
     "output_type": "execute_result"
    }
   ],
   "source": [
    "C = (tauL*sqrt(tauA)/(sigmaA*tau**2))*(tau*(EE-V) + tauA*(EE-mu))/(V-EE)**(2*(1+tauL**2/(tauA*tau*sigmaA**2)))\n",
    "exponential = exp(-tauL**2*(EE**2*(2 - tauA/tau) - 2*EE*mu - 2*V*(EE-mu)*(1 - tauA/tau) + mu**2*tauA/tau)/(sigmaA**2*tau*tauA*(EE-V)**2))\n",
    "\n",
    "expr = simplify(C*exponential).subs({EE:0, EL:-60, tauL:20, tauA:5, KE:400, nuE:5, wE:0.1})\n",
    "f = lambdify(V, expr)\n",
    "data = np.linspace(-100, -50, 100)\n",
    "# f(data)\n",
    "expr"
   ]
  },
  {
   "cell_type": "code",
   "execution_count": 32,
   "metadata": {},
   "outputs": [
    {
     "data": {
      "text/plain": [
       "[<matplotlib.lines.Line2D at 0x7f26bd77b580>]"
      ]
     },
     "execution_count": 32,
     "metadata": {},
     "output_type": "execute_result"
    },
    {
     "data": {
      "image/png": "[encoded data removed]",
      "text/plain": [
       "<Figure size 432x288 with 1 Axes>"
      ]
     },
     "metadata": {
      "needs_background": "light"
     },
     "output_type": "display_data"
    }
   ],
   "source": [
    "tauA**2"
   ]
  }
 ],
 "metadata": {
  "interpreter": {
   "hash": "98c6dd40333d5354a17017e1bca71ec871e410bcd8a22f3cc0eb808b34c46cd4"
  },
  "kernelspec": {
   "display_name": "Python 3.10.4 ('worklab')",
   "language": "python",
   "name": "python3"
  },
  "language_info": {
   "codemirror_mode": {
    "name": "ipython",
    "version": 3
   },
   "file_extension": ".py",
   "mimetype": "text/x-python",
   "name": "python",
   "nbconvert_exporter": "python",
   "pygments_lexer": "ipython3",
   "version": "3.10.4"
  }
 },
 "nbformat": 4,
 "nbformat_minor": 4
}
