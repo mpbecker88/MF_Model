{
 "cells": [
  {
   "cell_type": "code",
   "execution_count": 1,
   "metadata": {},
   "outputs": [],
   "source": [
    "from sympy import *\n",
    "import numpy as np\n",
    "import matplotlib.pyplot as plt"
   ]
  },
  {
   "cell_type": "code",
   "execution_count": 2,
   "metadata": {},
   "outputs": [],
   "source": [
    "EE = symbols('E_E', constant=True)\n",
    "EI = symbols('E_I', constant=True)\n",
    "EL = symbols('E_L', constant=True)\n",
    "tauA = symbols('tau_A', constant=True, positive=True)\n",
    "tauN = symbols('tau_N', constant=True, positive=True)\n",
    "tauI = symbols('tau_I', constant=True, positive=True)\n",
    "tauL = symbols('tau_L', constant=True, positive=True)\n",
    "tau = symbols('tau', constant=True, positive=True)\n",
    "sigmaV = symbols('sigma_V', constant=True, positive=True)\n",
    "nu = symbols('nu', constant=True, positive=True)\n",
    "mu = symbols('mu', constant=True, positive=True)\n",
    "sigmaA = symbols('sigma_A', constant=True, positive=True)\n",
    "sigmaN = symbols('sigma_N', constant=True, positive=True)\n",
    "sigmaI = symbols('sigma_I', constant=True, positive=True)\n",
    "V = symbols('V', positive=False)\n",
    "wE = symbols('w_E', constant=True, positive=True)\n",
    "KE = symbols('K_E', constant=True, positive=True)\n",
    "wI = symbols('w_I', constant=True, positive=True)\n",
    "KI = symbols('K_I', constant=True, positive=True)\n",
    "nuE = symbols('nu_E', constant=True, positive=True)\n",
    "alpha = symbols('alpha', constant=True, positive=True)\n",
    "\n",
    "muA = wE*KE*nuE*tauA\n",
    "muN = wE*KE*nuE*tauN\n",
    "muI = wI*KI*nuE*tauI\n",
    "sigmaA = wE*sqrt(KE*nuE*tauA)\n",
    "sigmaN = wE*sqrt(KE*nuE*tauN)\n",
    "sigmaI = wI*sqrt(KI*nuE*tauI)\n",
    "tau = tauL/(1 + (1 - alpha)*muA + alpha*muN + muI)\n",
    "mu = (tau/tauL)*(EL + ((1 - alpha)*muA + alpha*muN)*EE + muI*EI)\n",
    "\n",
    "hA = (1 - alpha)*(tau/tauL)*sigmaA/sqrt(tauA)*(EE-V)\n",
    "hN = alpha*(tau/tauL)*sigmaN/sqrt(tauN)*(EE-V)\n",
    "\n"
   ]
  },
  {
   "cell_type": "code",
   "execution_count": 17,
   "metadata": {},
   "outputs": [
    {
     "data": {
      "text/latex": [
       "$\\displaystyle \\frac{E_{E} K_{E} \\nu_{E} w_{E} \\left(\\alpha \\tau_{N} + \\tau_{A} \\left(1 - \\alpha\\right)\\right) + E_{I} K_{I} \\nu_{E} \\tau_{I} w_{I} + E_{L}}{K_{E} \\nu_{E} w_{E} \\left(\\alpha \\tau_{N} + \\tau_{A} \\left(1 - \\alpha\\right)\\right) + K_{I} \\nu_{E} \\tau_{I} w_{I} + 1}$"
      ],
      "text/plain": [
       "(E_E*K_E*nu_E*w_E*(alpha*tau_N + tau_A*(1 - alpha)) + E_I*K_I*nu_E*tau_I*w_I + E_L)/(K_E*nu_E*w_E*(alpha*tau_N + tau_A*(1 - alpha)) + K_I*nu_E*tau_I*w_I + 1)"
      ]
     },
     "execution_count": 17,
     "metadata": {},
     "output_type": "execute_result"
    }
   ],
   "source": [
    "collect(mu, KE*nuE*wE)"
   ]
  }
 ],
 "metadata": {
  "kernelspec": {
   "display_name": "Python [conda env:worklab]",
   "language": "python",
   "name": "conda-env-worklab-py"
  },
  "language_info": {
   "codemirror_mode": {
    "name": "ipython",
    "version": 3
   },
   "file_extension": ".py",
   "mimetype": "text/x-python",
   "name": "python",
   "nbconvert_exporter": "python",
   "pygments_lexer": "ipython3",
   "version": "3.9.2"
  }
 },
 "nbformat": 4,
 "nbformat_minor": 4
}
