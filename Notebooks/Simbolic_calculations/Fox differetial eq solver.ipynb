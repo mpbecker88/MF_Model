{
 "cells": [
  {
   "cell_type": "code",
   "execution_count": 18,
   "metadata": {},
   "outputs": [],
   "source": [
    "from sympy import *\n",
    "import numpy as np\n",
    "import matplotlib\n",
    "import matplotlib.pyplot as plt\n",
    "import pandas as pd\n",
    "# from scipy import integrate\n",
    "\n",
    "# Customize matplotlib\n",
    "matplotlib.rcParams.update(\n",
    "\t{\n",
    "\t\t'text.usetex': False,\n",
    "\t\t'font.family': 'stixgeneral',\n",
    "\t\t'mathtext.fontset': 'stix',\n",
    "\t\t'font.size': 22,\n",
    "\t\t'ytick.color' : 'black',\n",
    "\t\t\"xtick.color\" : 'black',\n",
    "\t\t'axes.labelcolor' : 'black',\n",
    "\t\t'axes.edgecolor' : 'black'\n",
    "\t}\n",
    ")"
   ]
  },
  {
   "cell_type": "code",
   "execution_count": 30,
   "metadata": {},
   "outputs": [
    {
     "data": {
      "text/plain": [
       "1.9888504764699189"
      ]
     },
     "execution_count": 30,
     "metadata": {},
     "output_type": "execute_result"
    }
   ],
   "source": [
    "EE = symbols('E_E', constant=True)\n",
    "EI = symbols('E_I', constant=True)\n",
    "EL = symbols('E_L', constant=True)\n",
    "theta = symbols('theta', constant=True)\n",
    "tauE = symbols('tau_E', constant=True, positive=True)\n",
    "tauI = symbols('tau_I', constant=True, positive=True)\n",
    "tauL = symbols('tau_L', constant=True, positive=True)\n",
    "tau = symbols('tau', constant=True, positive=True)\n",
    "sigmaV = symbols('sigma_V', constant=True, positive=True)\n",
    "nu = symbols('nu', constant=True, positive=True)\n",
    "mu = symbols('mu', constant=True, positive=True)\n",
    "sigmaE = symbols('sigma_E', constant=True, positive=True)\n",
    "sigmaI = symbols('sigma_I', constant=True, positive=True)\n",
    "V = symbols('V', positive=False)\n",
    "wE = symbols('w_E', constant=True, positive=True)\n",
    "wI = symbols('w_I', constant=True, positive=True)\n",
    "KE = symbols('K_E', constant=True, positive=True)\n",
    "KI = symbols('K_I', constant=True, positive=True)\n",
    "nuE = symbols('nu_E', constant=True, positive=True)\n",
    "alpha = symbols('alpha', constant=True, positive=True)\n",
    "# W0 = Function('W_0')(V)\n",
    "# dW0 = symbols('dW_0')\n",
    "# WE = Function('W_E')(V)\n",
    "# dWE = symbols('dW_E')\n",
    "\n",
    "muE = wE*KE*nu*tauE\n",
    "muI = wI*KI*nu*tauI\n",
    "sigmaE = wE*sqrt(KE*nu*tauE)\n",
    "sigmaI = wI*sqrt(KI*nu*tauI)\n",
    "tau = tauL/(1 + muE + muI)\n",
    "mu = (tau/tauL)*(EL + muE*EE + muI*EI)\n",
    "\n",
    "# rho = Function('rho')(V)\n",
    "\n",
    "hE = (sqrt(tauE)/tauL)*sigmaE*(EE-mu)\n",
    "dhE = diff(hE, V)\n",
    "hI = (sqrt(tauI)/tauL)*sigmaI*(EI-mu)\n",
    "dhI = diff(hI, V)\n",
    "\n",
    "W = -(V - mu)/tau\n",
    "dW = diff(W, V)\n",
    "SE = (1/2) * hE / (1 - tauE*(dW - (dhE / hE) * W))\n",
    "SI = (1/2) * hI / (1 - tauI*(dW - (dhI / hI) * W))\n",
    "\n",
    "dSE = diff(SE, V)\n",
    "dSI = diff(SI, V)\n",
    "\n",
    "Xi = ((hE*SE + hI*SI))\n",
    "\n",
    "B = ((hE * dSE) + (hI * dSI) - W) / Xi\n",
    "# GA = 2*tau/tauA**2 * integrate(simplify((V-mu)/(hA*FA)), V)\n",
    "# GA = simplify(GA)\n",
    "# simplify(LE)\n",
    "# integrate(simplify(diff(FE, V)/FE), V)\n",
    "# IE_i = (EE - V)**(-2*tauL**2/(sigmaE**2*tau*tauE))/FE*exp(-LE)\n",
    "# IE_i\n",
    "# B0 = simplify((V - mu)/(hE*SE + hI*SI))\n",
    "# BE = simplify(hE*dSEdV/Xi)\n",
    "# BI = simplify(hI*dSIdV/Xi)\n",
    "# B = (S0 + hE*dSEdV + hI*dSIdV)/Xi\n",
    "H = Heaviside(V - EL)/Xi\n",
    "# integrate(B0, V)\n",
    "# simplify(dSEdV)\n",
    "\n",
    "# WI.subs({EE:0, EL:-60, tauL:20, tauE:5, KE:400, nu:0.005, wE:0.1, tauI:10, EI:-80, wI:0.4, KI:100}).evalf()\n",
    "# simplify(H.subs({V:-60, EE:0, EL:-60, tauL:20, tauE:5, KE:400, nu:0.005, wE:0.1, tauI:10, EI:-80, wI:0.4, KI:100})).evalf()\n",
    "# SE.subs({EE:0, EL:-60, tauL:20, tauE:5, KE:400, nu:0.005, wE:0.1, tauI:10, EI:-80, wI:0.4, KI:100}).evalf()\n",
    "# B.subs({EE:0, EL:-60, tauL:20, tauE:5, KE:400, nu:0.005, wE:0.1, tauI:10, EI:-80, wI:0.4, KI:100}).subs(V,-63).evalf()\n",
    "B.subs({EE:0, EL:-60, tauL:20, tauE:5, KE:400, nu:0.005, wE:0.5, tauI:10, EI:-80, wI:10, KI:100})\n",
    "B_f = lambdify(V, B.subs({EE:0, EL:-60, tauL:20, tauE:5, KE:400, nu:0.005, wE:0.5, tauI:10, EI:-80, wI:10, KI:100}))\n",
    "B_f(-60)\n"
   ]
  },
  {
   "cell_type": "code",
   "execution_count": 32,
   "metadata": {},
   "outputs": [],
   "source": [
    "def integrate_p0(vec_Vk, B_f, H_f):\n",
    "\t\"\"\"Integrate the unnormalized probability distribution p0\"\"\"\n",
    "\n",
    "\tvec_p0_fliped = np.zeros_like(vec_Vk)\n",
    "\tdV = vec_Vk[1] - vec_Vk[0]\n",
    "\tvec_Vk_fliped = np.flip(vec_Vk)\n",
    "\n",
    "\tvec_p0_fliped[0] = 0\n",
    "\n",
    "\tfor j, (Vk, p0) in enumerate(zip(vec_Vk_fliped[:-1], vec_p0_fliped[:-1])):\n",
    "\t\tBk = B_f(Vk)\n",
    "\t\tHk = H_f(Vk)\n",
    "\t\tif(-0.000001 <= Bk <= 0.000001):\n",
    "\t\t\tvec_p0_fliped[j+1] = p0 * np.exp(dV * Bk) + dV * Hk\n",
    "\t\telse:\n",
    "\t\t\tvec_p0_fliped[j+1] = p0 * np.exp(dV * Bk) + dV * Hk * (np.exp(dV*Bk) - 1) / (dV * Bk)\n",
    "\n",
    "\tvec_p0 = np.flip(vec_p0_fliped)\n",
    "\n",
    "\treturn vec_p0\n",
    "\n",
    "def calculate_firing_rate(vec_Vk, B_f, H_f) -> float:\n",
    "\t\ttauR_val = 2\n",
    "\t\tvec_p0 = integrate_p0(vec_Vk, B_f, H_f)\n",
    "\t\tdV = vec_Vk[1] - vec_Vk[0]\n",
    "\n",
    "\t\treturn 1 / (tauR_val + dV * np.sum(vec_p0))"
   ]
  },
  {
   "cell_type": "code",
   "execution_count": 33,
   "metadata": {},
   "outputs": [
    {
     "name": "stderr",
     "output_type": "stream",
     "text": [
      "/tmp/ipykernel_17797/306349451.py:16: RuntimeWarning: overflow encountered in double_scalars\n",
      "  vec_p0_fliped[j+1] = p0 * np.exp(dV * Bk) + dV * Hk * (np.exp(dV*Bk) - 1) / (dV * Bk)\n"
     ]
    }
   ],
   "source": [
    "n = 30000\n",
    "vec_Vk = np.linspace(-80, -50, n + 1)\n",
    "vec_tauE = np.linspace(0.1, 100, 100)\n",
    "vec_nu = np.zeros_like(vec_tauE)\n",
    "\n",
    "for i, tauE_val in enumerate(vec_tauE):\n",
    "\tB_f = lambdify(V, B.subs({EE:0, EL:-60, tauL:20, tauE:tauE_val, KE:400, nu:0.005, wE:0.5, tauI:10, EI:-80, wI:10, KI:100}))\n",
    "\tH_f = lambdify(V, H.subs({EE:0, EL:-60, tauL:20, tauE:tauE_val, KE:400, nu:0.005, wE:0.5, tauI:10, EI:-80, wI:10, KI:100}))\n",
    "\n",
    "\tvec_nu[i] = calculate_firing_rate(vec_Vk, B_f, H_f)\n"
   ]
  },
  {
   "cell_type": "code",
   "execution_count": 19,
   "metadata": {},
   "outputs": [],
   "source": [
    "fRate_data_path = \"../../Data/fRate_data/\"\n",
    "V_data_path = \"../../Data/V_data/\"\n",
    "\n",
    "df_nu_sim_read = pd.read_csv(f\"{fRate_data_path}firing_rate_wI.dat\", index_col=0)\n",
    "df_mu_sim_read = pd.read_csv(f\"{V_data_path}mean_V_ta_wI.dat\", index_col=0)\n",
    "df_sigma_V_sim_read = pd.read_csv(f\"{V_data_path}var_V_ta_wI.dat\", index_col=0)\n"
   ]
  },
  {
   "cell_type": "code",
   "execution_count": 34,
   "metadata": {},
   "outputs": [
    {
     "data": {
      "text/plain": [
       "[<matplotlib.lines.Line2D at 0x7f81a38d2d70>]"
      ]
     },
     "execution_count": 34,
     "metadata": {},
     "output_type": "execute_result"
    },
    {
     "data": {
      "image/png": "[encoded data removed]",
      "text/plain": [
       "<Figure size 432x288 with 1 Axes>"
      ]
     },
     "metadata": {
      "needs_background": "light"
     },
     "output_type": "display_data"
    }
   ],
   "source": [
    "plt.plot(vec_tauE, vec_nu*1000)\n",
    "plt.plot(df_nu_sim_read['tauA'], df_nu_sim_read['10'], 'bo')"
   ]
  },
  {
   "cell_type": "code",
   "execution_count": 33,
   "metadata": {},
   "outputs": [
    {
     "name": "stderr",
     "output_type": "stream",
     "text": [
      "<lambdifygenerated-57>:2: RuntimeWarning: divide by zero encountered in true_divide\n",
      "  return Heaviside(V + 60, 1/2)/(0.00625*V**2/(20.0 - 10*(V + 55.0)/V) + 0.1*(-V - 80)**2/(30.0 + 20*(V + 55.0)/(-V - 80)))\n"
     ]
    },
    {
     "data": {
      "text/plain": [
       "[<matplotlib.lines.Line2D at 0x7f0b72f8c5b0>]"
      ]
     },
     "execution_count": 33,
     "metadata": {},
     "output_type": "execute_result"
    },
    {
     "data": {
      "image/png": "[encoded data removed]",
      "text/plain": [
       "<Figure size 432x288 with 1 Axes>"
      ]
     },
     "metadata": {
      "needs_background": "light"
     },
     "output_type": "display_data"
    }
   ],
   "source": [
    "B_f = lambdify(V, B.subs({EE:0, EL:-60, tauL:20, tauE:5, KE:400, nu:0.005, wE:0.1, tauI:10, EI:-80, wI:0.4, KI:100}))\n",
    "dSE_f = lambdify(V, dSEdV.subs({EE:0, EL:-60, tauL:20, tauE:5, KE:400, nu:0.005, wE:0.1, tauI:10, EI:-80, wI:0.4, KI:100}))\n",
    "SE_f = lambdify(V, SE.subs({EE:0, EL:-60, tauL:20, tauE:5, KE:400, nu:0.005, wE:0.1, tauI:10, EI:-80, wI:0.4, KI:100}))\n",
    "hE_f = lambdify(V, hE.subs({EE:0, EL:-60, tauL:20, tauE:5, KE:400, nu:0.005, wE:0.1, tauI:10, EI:-80, wI:0.4, KI:100}))\n",
    "H_f = lambdify(V, H.subs({EE:0, EL:-60, theta:-50, tauL:20, tauE:5, KE:400, nu:0.005, wE:0.1, tauI:10, EI:-80, wI:0.4, KI:100}))\n",
    "\n",
    "vec_x = np.linspace(-80, -50, 1000)\n",
    "plt.plot(vec_x, H_f(vec_x))"
   ]
  },
  {
   "cell_type": "code",
   "execution_count": null,
   "metadata": {},
   "outputs": [],
   "source": [
    "fig, axs = plt.subplots(2, 2, figsize=(19,12), dpi=100)\n",
    "axs[0][0].set_title(r'$\\tau_E=5ms$')\n",
    "tauE_value = 5\n",
    "f0 = lambdify(V, B0.subs({EE:0, EL:-60, tauL:20, tauE:tauE_value, KE:400, nu:0.005, wE:0.1, tauI:10, EI:-80, wI:0.4, KI:100}))\n",
    "fE = lambdify(V, BE.subs({EE:0, EL:-60, tauL:20, tauE:tauE_value, KE:400, nu:0.005, wE:0.1, tauI:10, EI:-80, wI:0.4, KI:100}))\n",
    "fI = lambdify(V, BI.subs({EE:0, EL:-60, tauL:20, tauE:tauE_value, KE:400, nu:0.005, wE:0.1, tauI:10, EI:-80, wI:0.4, KI:100}))\n",
    "f = lambdify(V, B.subs({EE:0, EL:-60, tauL:20, tauE:tauE_value, KE:400, nu:0.005, wE:0.1, tauI:10, EI:-80, wI:0.4, KI:100}))\n",
    "vec_x = np.linspace(-1000, -50, 1000)\n",
    "axs[0][0].plot(vec_x, f0(vec_x), 'b-', label=r'$B_0$')\n",
    "axs[0][0].plot(vec_x, fE(vec_x), 'r-', label=r'$B_E$')\n",
    "axs[0][0].plot(vec_x, fI(vec_x), 'g-', label=r'$B_I$')\n",
    "axs[0][1].plot(vec_x, f(vec_x), 'y', label=r'$B$')\n",
    "axs[0][0].legend(bbox_to_anchor=(0.18, 0.986), loc=1, borderaxespad=0., prop={'size': 14})\n",
    "axs[0][1].legend(bbox_to_anchor=(0.18, 0.986), loc=1, borderaxespad=0., prop={'size': 14})\n",
    "axs[0][0].set_title(r'$\\tau_E=5ms$')\n",
    "tauE_value = 100\n",
    "f0 = lambdify(V, B0.subs({EE:0, EL:-60, tauL:20, tauE:tauE_value, KE:400, nu:0.005, wE:0.1, tauI:10, EI:-80, wI:0.4, KI:100}))\n",
    "fE = lambdify(V, BE.subs({EE:0, EL:-60, tauL:20, tauE:tauE_value, KE:400, nu:0.005, wE:0.1, tauI:10, EI:-80, wI:0.4, KI:100}))\n",
    "fI = lambdify(V, BI.subs({EE:0, EL:-60, tauL:20, tauE:tauE_value, KE:400, nu:0.005, wE:0.1, tauI:10, EI:-80, wI:0.4, KI:100}))\n",
    "f = lambdify(V, B.subs({EE:0, EL:-60, tauL:20, tauE:tauE_value, KE:400, nu:0.005, wE:0.1, tauI:10, EI:-80, wI:0.4, KI:100}))\n",
    "axs[1][0].plot(vec_x, f0(vec_x), 'b-', label=r'$B_0$')\n",
    "axs[1][0].plot(vec_x, fE(vec_x), 'r-', label=r'$B_E$')\n",
    "axs[1][0].plot(vec_x, fI(vec_x), 'g-', label=r'$B_I$')\n",
    "axs[1][1].plot(vec_x, f(vec_x), 'y', label=r'$B$')\n",
    "axs[1][0].legend(bbox_to_anchor=(0.18, 0.986), loc=1, borderaxespad=0., prop={'size': 14})\n",
    "axs[1][1].legend(bbox_to_anchor=(0.18, 0.986), loc=1, borderaxespad=0., prop={'size': 14})\n",
    "axs[1][0].set_title(r'$\\tau_E=100ms$')"
   ]
  },
  {
   "cell_type": "code",
   "execution_count": null,
   "metadata": {},
   "outputs": [],
   "source": []
  },
  {
   "cell_type": "code",
   "execution_count": null,
   "metadata": {},
   "outputs": [],
   "source": [
    "x = symbols('x')\n",
    "an = symbols('a_n', constant=True)\n",
    "bn = symbols('b_n', constant=True)\n",
    "cn = symbols('c_n', constant=True)\n",
    "dn = symbols('d_n', constant=True)\n",
    "\n",
    "ad = symbols('a_d', constant=True)\n",
    "bd = symbols('b_d', constant=True)\n",
    "cd = symbols('c_d', constant=True)\n",
    "dd = symbols('d_d', constant=True)\n",
    "ed = symbols('e_d', constant=True)\n",
    "\n",
    "num_generic = poly(an*x + bn*x**2 + cn*x**3 + dn*x**4)\n",
    "den_generic = poly(ad*x + bd*x**2 + cd*x**3 + dd*x**4 + ed*x**5)\n",
    "\n",
    "expression = num_generic/den_generic\n",
    "\n",
    "integrate(expression, x)\n"
   ]
  },
  {
   "cell_type": "code",
   "execution_count": null,
   "metadata": {},
   "outputs": [],
   "source": [
    "IE_is = IE_i.subs({EE:0, EL:-60, tauL:20, tauE:5, KE:400, nuE:0.005, wE:0.4})\n",
    "\n",
    "IE_if = lambdify(V, IE_is)\n",
    "vec_x = np.linspace(-100, -50, 1000)\n",
    "vec_IE = IE_if(vec_x)\n",
    "\n",
    "plt.plot(vec_x, vec_IE)\n"
   ]
  },
  {
   "cell_type": "code",
   "execution_count": null,
   "metadata": {},
   "outputs": [],
   "source": [
    "def IE(x):\n",
    "    return integrate.quad(IE_if, -np.inf, x, limit=1000)[0]\n",
    "IE = np.vectorize(IE)\n",
    "integrand = ((EE - V)**(2*tauL**2/(sigmaE**2*tau*tauE))/hE*exp(LE)).subs({EE:0, EL:-60, tauL:20, tauE:5, KE:400, nuE:0.005, wE:0.4})\n",
    "ii = lambdify(V, integrand)\n",
    "vec_ii = ii(vec_x)*IE(vec_x)\n",
    "\n",
    "plt.plot(vec_x, vec_ii)\n",
    "# integrand"
   ]
  },
  {
   "cell_type": "code",
   "execution_count": null,
   "metadata": {},
   "outputs": [],
   "source": [
    "simplify((hE*FE).subs({V:mu}))"
   ]
  },
  {
   "cell_type": "code",
   "execution_count": null,
   "metadata": {},
   "outputs": [],
   "source": [
    "integrand = simplify((EE - V)**(-tau/(sigmaE**2*tau**4))*exp(-LE)/FE)\n",
    "integrands = simplify(integrand.subs({EE:0, EL:-60, tauL:20, tauE:5, KE:400, nuE:0.005, wE:0.4}))\n",
    "\n",
    "\n",
    "# f = lambdify(V, integrands)\n",
    "# data = np.linspace(-100, -50, 1000)\n",
    "# plt.plot(data, f(data))\n",
    "integrands"
   ]
  },
  {
   "cell_type": "code",
   "execution_count": null,
   "metadata": {},
   "outputs": [],
   "source": [
    "x = symbols('x')\n",
    "integrand = (V - mu)/(hE*FE*tau)\n",
    "I = simplify(integrand)\n",
    "I\n",
    "simplify(integrate(I, V))"
   ]
  },
  {
   "cell_type": "code",
   "execution_count": null,
   "metadata": {},
   "outputs": [],
   "source": [
    "# hA/(1 + (tauA/tau)*(1 - (dhAdV/hA)*(V-mu)))\n",
    "hA\n",
    "FAs"
   ]
  },
  {
   "cell_type": "code",
   "execution_count": null,
   "metadata": {},
   "outputs": [],
   "source": [
    "FA = simplify(FA)\n",
    "FAs = simplify(FA.subs({EE:0, EL:-60, tauL:20, tauA:5, KE:400, nuE:0.005, wE:0.4}))\n",
    "\n",
    "f = lambdify(V, FAs)\n",
    "data = np.linspace(-100, 100, 1000)\n",
    "plt.plot(data, f(data))"
   ]
  },
  {
   "cell_type": "code",
   "execution_count": 42,
   "metadata": {
    "collapsed": true,
    "jupyter": {
     "outputs_hidden": true
    }
   },
   "outputs": [],
   "source": [
    "x = symbols('x')\n",
    "# FA = symbols('F_A')\n",
    "\n",
    "exponent = (-tauL**2*(EE - mu)/(sigmaA**2*tau**2*tauA*(EE - V)) * (2*tau - tauA*(EE - 2*V + mu)/(EE-V)))\n",
    "# exponent\n",
    "\n",
    "coeff = ((EE - V)**(-2*tauL**2/(sigmaA**2*tau*tauA)))/FA\n",
    "coeff\n",
    "\n",
    "integrand = coeff*exp(exponent)\n",
    "integrand = simplify(integrand)\n",
    "# integrand\n",
    "\n",
    "# integrand\n",
    "# I = integrate(integrand, (V, -oo, x))\n",
    "# collect(collect(collect(collect(factor(GA), log(-EE + V)), V), EE), mu)\n",
    "# integrand.subs"
   ]
  },
  {
   "cell_type": "code",
   "execution_count": null,
   "metadata": {},
   "outputs": [],
   "source": [
    "expr = integrand.subs({EE:0, EL:-60, tauL:20, tauA:5, KE:400, nuE:0.005, wE:0.4})\n",
    "expr = simplify(expr)\n",
    "f = lambdify(V, expr)\n",
    "data = np.linspace(-60, -50, 1000)\n",
    "# f(data)\n",
    "plt.plot(data, f(data))\n",
    "# expr"
   ]
  },
  {
   "cell_type": "code",
   "execution_count": null,
   "metadata": {},
   "outputs": [],
   "source": [
    "C = (tauL*sqrt(tauA)/(sigmaA*tau**2))*(tau*(EE-V) + tauA*(EE-mu))/(V-EE)**(2*(1+tauL**2/(tauA*tau*sigmaA**2)))\n",
    "exponential = exp(-tauL**2*(EE**2*(2 - tauA/tau) - 2*EE*mu - 2*V*(EE-mu)*(1 - tauA/tau) + mu**2*tauA/tau)/(sigmaA**2*tau*tauA*(EE-V)**2))\n",
    "\n",
    "expr = simplify(C*exponential).subs({EE:0, EL:-60, tauL:20, tauA:5, KE:400, nuE:5, wE:0.1})\n",
    "f = lambdify(V, expr)\n",
    "data = np.linspace(-100, -50, 100)\n",
    "# f(data)\n",
    "expr"
   ]
  },
  {
   "cell_type": "code",
   "execution_count": null,
   "metadata": {},
   "outputs": [],
   "source": [
    "tauA**2"
   ]
  }
 ],
 "metadata": {
  "interpreter": {
   "hash": "98c6dd40333d5354a17017e1bca71ec871e410bcd8a22f3cc0eb808b34c46cd4"
  },
  "kernelspec": {
   "display_name": "Python 3.10.4 ('worklab')",
   "language": "python",
   "name": "python3"
  },
  "language_info": {
   "codemirror_mode": {
    "name": "ipython",
    "version": 3
   },
   "file_extension": ".py",
   "mimetype": "text/x-python",
   "name": "python",
   "nbconvert_exporter": "python",
   "pygments_lexer": "ipython3",
   "version": "3.10.4"
  }
 },
 "nbformat": 4,
 "nbformat_minor": 4
}
