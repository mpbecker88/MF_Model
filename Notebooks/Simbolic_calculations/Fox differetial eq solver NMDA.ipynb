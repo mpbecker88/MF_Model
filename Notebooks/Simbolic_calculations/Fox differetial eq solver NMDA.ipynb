{
 "cells": [
  {
   "cell_type": "code",
   "execution_count": 1,
   "metadata": {},
   "outputs": [],
   "source": [
    "from sympy import *\n",
    "import numpy as np\n",
    "import matplotlib\n",
    "import matplotlib.pyplot as plt\n",
    "import pandas as pd\n",
    "# from scipy import integrate\n",
    "\n",
    "# Customize matplotlib\n",
    "matplotlib.rcParams.update(\n",
    "\t{\n",
    "\t\t'text.usetex': False,\n",
    "\t\t'font.family': 'stixgeneral',\n",
    "\t\t'mathtext.fontset': 'stix',\n",
    "\t\t'font.size': 22,\n",
    "\t\t'ytick.color' : 'black',\n",
    "\t\t\"xtick.color\" : 'black',\n",
    "\t\t'axes.labelcolor' : 'black',\n",
    "\t\t'axes.edgecolor' : 'black'\n",
    "\t}\n",
    ")"
   ]
  },
  {
   "cell_type": "code",
   "execution_count": 20,
   "metadata": {},
   "outputs": [],
   "source": [
    "from operator import contains\n",
    "\n",
    "\n",
    "epsilon = 0.5\n",
    "EE = symbols('E_E', constant=True)\n",
    "EI = symbols('E_I', constant=True)\n",
    "EL = symbols('E_L', constant=True)\n",
    "Mg = symbols('Mg', constant=True)\n",
    "beta = symbols('beta', constant=True)\n",
    "gamma = symbols('gamma', constant=True)\n",
    "theta = symbols('theta', constant=True)\n",
    "tauA = symbols('tau_A', constant=True, positive=True)\n",
    "tauN = symbols('tau_N', constant=True, positive=True)\n",
    "tauI = symbols('tau_I', constant=True, positive=True)\n",
    "tauL = symbols('tau_L', constant=True, positive=True)\n",
    "tau = symbols('tau', constant=True, positive=True)\n",
    "sigmaV = symbols('sigma_V', constant=True, positive=True)\n",
    "nu = symbols('nu', constant=True, positive=True)\n",
    "mu = symbols('mu', constant=True, positive=True)\n",
    "sigmaA = symbols('sigma_A', constant=True, positive=True)\n",
    "sigmaN = symbols('sigma_N', constant=True, positive=True)\n",
    "sigmaI = symbols('sigma_I', constant=True, positive=True)\n",
    "V = symbols('V', positive=False)\n",
    "wE = symbols('w_E', constant=True, positive=True)\n",
    "wI = symbols('w_I', constant=True, positive=True)\n",
    "KE = symbols('K_E', constant=True, positive=True)\n",
    "KI = symbols('K_I', constant=True, positive=True)\n",
    "nuE = symbols('nu_E', constant=True, positive=True)\n",
    "alpha = symbols('alpha', constant=True, positive=True)\n",
    "muA = symbols('mu_A', constant=True)\n",
    "muN = symbols('mu_N', constant=True)\n",
    "muI = symbols('mu_I', constant=True)\n",
    "# s = Function('s')(V)\n",
    "# hE = Function('h_E')(V)\n",
    "# dhEdV = symbols('dh_E')\n",
    "Mg = symbols('[Mg^2+]')\n",
    "muA = wE*KE*nu*tauA\n",
    "muN = wE*KE*nu*tauN\n",
    "muI = wI*KI*nu*tauI\n",
    "sigmaA = wE*sqrt(KE*nu*tauA)\n",
    "sigmaN = wE*sqrt(KE*nu*tauN)\n",
    "sigmaI = wI*sqrt(KI*nu*tauI)\n",
    "s = 1 / ( 1 + (Mg/gamma)*exp(-beta*V))\n",
    "tau = tauL/(1 + (1 - alpha)*muA + alpha*s*muN + muI)\n",
    "mu = (tau/tauL)*(EL + ((1 - alpha)*muA + alpha*s*muN)*EE + muI*EI)\n",
    "\n",
    "# rho = Function('rho')(V)\n",
    "\n",
    "W0 = (mu - V) / tau\n",
    "WA = (1 - alpha) * sqrt(tauA) * sigmaA * (EE - V) / tauL\n",
    "WN = alpha * s * sqrt(tauN) * sigmaN * (EE - V) / tauL\n",
    "WI = sigmaI * sqrt(tauI) * (EI - V) / tauL\n",
    "dW0 = diff(W0, V)\n",
    "dWA = diff(WA, V)\n",
    "dWN = diff(WN, V)\n",
    "dWI = diff(WI, V)\n",
    "\n",
    "FA = ((dW0 - (dWA / WA) * W0))\n",
    "FN = ((dW0 - (dWN / WN) * W0))\n",
    "FI = ((dW0 - (dWI / WI) * W0))\n",
    "dFA = diff(FA, V)\n",
    "dFN = diff(FN, V)\n",
    "dFI = diff(FI, V)\n",
    "\n",
    "S0 = -W0\n",
    "SA = (1/2) * (WA / Piecewise((epsilon, Abs((1 - tauA*(dW0 - (dWA / WA) * W0))) < epsilon), ((1 - tauA*(dW0 - (dWA / WA) * W0)), True))) * (1 - 0.01*tauA**2 * dFA * WA)\n",
    "SN = (1/2) * (WN / Piecewise((epsilon, Abs((1 - tauN*(dW0 - (dWN / WN) * W0))) < epsilon), ((1 - tauN*(dW0 - (dWN / WN) * W0)), True))) * (1 - 0.01*tauN**2 * dFN * WN)\n",
    "SI = (1/2) * (WI / Piecewise((epsilon, Abs((1 - tauI*(dW0 - (dWI / WI) * W0))) < epsilon), ((1 - tauI*(dW0 - (dWI / WI) * W0)), True))) * (1 - 0.01*tauI**2 * dFI * WI)\n",
    "dSA = diff(SA, V)\n",
    "dSN = diff(SN, V)\n",
    "dSI = diff(SI, V)\n",
    "\n",
    "Xi = ((WA*SA + WN*SN + WI*SI))\n",
    "\n",
    "B = (S0 + (WA * dSA) + (WN * dSN) + (WI * dSI)) / Xi\n",
    "x = (1 - tauA*(dW0 - (dWA / WA) * W0))\n",
    "F = (1/2) * WA / Piecewise((-epsilon, Interval(-epsilon, 0).contains(x)), (epsilon, Interval(0, epsilon).contains(x)), (x,  True))\n",
    "\n",
    "# SF = hF/(2*(tau + tauF*(1 - (dhFdV/hF)*(V-mu))))\n",
    "# dSFdV = diff(SF, V)\n",
    "# SS = hS/(2*(tau + tauS*(1 - (dhSdV/hS)*(V-mu))))\n",
    "# dSSdV = diff(SS, V)\n",
    "# SI = hI/(2*(tau + tauI*(1 - (dhIdV/hI)*(V-mu))))\n",
    "# dSIdV = diff(SI, V)\n",
    "\n",
    "# Xi = hF*SF + hS*SS + hI*SI\n",
    "\n",
    "alpha_v = 0.9\n",
    "# B = (S0 + hF*dSFdV + hS*dSSdV + hI*dSIdV)/Xi\n",
    "H = Heaviside(V - EL)/Xi\n",
    "# integrate(B0, V)\n",
    "# expand(dSEdV)\n",
    "# SE\n",
    "# H = H.subs({EE:0, EL:-60, tauL:20, tauA:1, tauN:100, KE:400, nu:0.005, wE:0.5, tauI:10, EI:-80, wI:0.1, KI:100, alpha:alpha_v, beta:0.062, gamma:3.57, Mg:1})\n",
    "# B = B.subs({EE:0, EL:-60, tauL:20, tauA:1, tauN:100, KE:400, nu:0.005, wE:0.5, tauI:10, EI:-80, wI:0.1, KI:100, alpha:alpha_v, beta:0.062, gamma:3.57, Mg:1})\n",
    "# F = F.subs({EE:0, EL:-60, tauL:20, tauA:1, tauN:100, KE:400, nu:0.005, wE:0.5, tauI:10, EI:-80, wI:0.1, KI:100, alpha:alpha_v, beta:0.062, gamma:3.57, Mg:1})\n",
    "# FA = FA.subs({EE:0, EL:-60, tauL:20, tauA:1, tauN:100, KE:400, nu:0.005, wE:0.5, tauI:10, EI:-80, wI:0.1, KI:100, alpha:alpha_v, beta:0.062, gamma:3.57, Mg:1})\n",
    "# FN = FN.subs({EE:0, EL:-60, tauL:20, tauA:1, tauN:100, KE:400, nu:0.005, wE:0.5, tauI:10, EI:-80, wI:0.1, KI:100, alpha:alpha_v, beta:0.062, gamma:3.57, Mg:1})\n",
    "# FI = FI.subs({EE:0, EL:-60, tauL:20, tauA:1, tauN:100, KE:400, nu:0.005, wE:0.5, tauI:10, EI:-80, wI:0.1, KI:100, alpha:alpha_v, beta:0.062, gamma:3.57, Mg:1})\n",
    "# H = lambdify(V,H)\n",
    "# B = lambdify(V,B)\n",
    "# F = lambdify(V,F)\n",
    "# FA = lambdify(V,FA)\n",
    "# FN = lambdify(V,FN)\n",
    "# FI = lambdify(V,FI)\n"
   ]
  },
  {
   "cell_type": "code",
   "execution_count": 21,
   "metadata": {},
   "outputs": [],
   "source": [
    "def integrate_p0(vec_Vk, B, H):\n",
    "\t\"\"\"Integrate the unnormalized probability distribution p0\"\"\"\n",
    "\n",
    "\tvec_p0_fliped = np.zeros_like(vec_Vk)\n",
    "\tdV = vec_Vk[1] - vec_Vk[0]\n",
    "\tvec_Vk_fliped = np.flip(vec_Vk)\n",
    "\n",
    "\tvec_p0_fliped[0] = 0\n",
    "\n",
    "\tfor j, (Vk, p0) in enumerate(zip(vec_Vk_fliped[:-1], vec_p0_fliped[:-1])):\n",
    "\t\tBk = B(Vk)\n",
    "\t\tHk = H(Vk)\n",
    "\t\t\n",
    "\t\tif(-0.000001 <= Bk <= 0.000001):\n",
    "\t\t\tvec_p0_fliped[j+1] = p0 * np.exp(dV * Bk) + dV * Hk\n",
    "\t\telse:\n",
    "\t\t\tvec_p0_fliped[j+1] = p0 * np.exp(dV * Bk) + dV * Hk * (np.exp(dV*Bk) - 1) / (dV * Bk)\n",
    "\n",
    "\tvec_p0 = np.flip(vec_p0_fliped)\n",
    "\n",
    "\treturn vec_p0\n",
    "\n",
    "def calculate_firing_rate(vec_Vk, B, H):\n",
    "\t\ttauR_val = 2\n",
    "\t\tvec_p0 = integrate_p0(vec_Vk, B, H)\n",
    "\t\tdV = vec_Vk[1] - vec_Vk[0]\n",
    "\n",
    "\t\treturn 1 / (tauR_val + dV * np.sum(vec_p0))"
   ]
  },
  {
   "cell_type": "code",
   "execution_count": 22,
   "metadata": {},
   "outputs": [
    {
     "name": "stdout",
     "output_type": "stream",
     "text": [
      "0.001\n",
      "0.021387755102040818\n",
      "0.041775510204081635\n",
      "0.062163265306122456\n",
      "0.08255102040816327\n",
      "0.10293877551020408\n",
      "0.12332653061224491\n",
      "0.1437142857142857\n",
      "0.16410204081632654\n",
      "0.18448979591836737\n",
      "0.20487755102040817\n",
      "0.225265306122449\n",
      "0.24565306122448982\n",
      "0.26604081632653065\n",
      "0.2864285714285714\n",
      "0.30681632653061225\n",
      "0.3272040816326531\n",
      "0.3475918367346939\n",
      "0.36797959183673473\n",
      "0.3883673469387755\n",
      "0.40875510204081633\n",
      "0.42914285714285716\n",
      "0.449530612244898\n",
      "0.4699183673469388\n",
      "0.49030612244897964\n",
      "0.5106938775510205\n",
      "0.5310816326530613\n",
      "0.551469387755102\n",
      "0.5718571428571428\n",
      "0.5922448979591837\n",
      "0.6126326530612245\n",
      "0.6330204081632653\n",
      "0.6534081632653062\n",
      "0.673795918367347\n",
      "0.6941836734693878\n",
      "0.7145714285714286\n",
      "0.7349591836734695\n",
      "0.7553469387755103\n",
      "0.775734693877551\n",
      "0.7961224489795918\n",
      "0.8165102040816327\n",
      "0.8368979591836735\n",
      "0.8572857142857143\n",
      "0.8776734693877551\n",
      "0.898061224489796\n",
      "0.9184489795918368\n",
      "0.9388367346938776\n",
      "0.9592244897959185\n"
     ]
    },
    {
     "name": "stderr",
     "output_type": "stream",
     "text": [
      "/tmp/ipykernel_7802/1809943481.py:17: RuntimeWarning: overflow encountered in longdouble_scalars\n",
      "  vec_p0_fliped[j+1] = p0 * np.exp(dV * Bk) + dV * Hk * (np.exp(dV*Bk) - 1) / (dV * Bk)\n"
     ]
    },
    {
     "name": "stdout",
     "output_type": "stream",
     "text": [
      "0.9796122448979593\n",
      "1.0\n"
     ]
    }
   ],
   "source": [
    "vec_Vk = np.linspace(-80, -50, 30000 + 1, dtype=np.longdouble)\n",
    "vec_alpha = np.linspace(0.001, 1, 50)\n",
    "vec_nu = []\n",
    "\n",
    "for alpha_v in vec_alpha:\n",
    "\tprint(alpha_v)\n",
    "\tH_s = H.subs({EE:0, EL:-60, tauL:20, tauA:1, tauN:100, KE:400, nu:0.005, wE:0.1, tauI:10, EI:-80, wI:0.4, KI:100, alpha:alpha_v, beta:0.062, gamma:3.57, Mg:1})\n",
    "\tB_s = B.subs({EE:0, EL:-60, tauL:20, tauA:1, tauN:100, KE:400, nu:0.005, wE:0.1, tauI:10, EI:-80, wI:0.4, KI:100, alpha:alpha_v, beta:0.062, gamma:3.57, Mg:1})\n",
    "\tH_f = lambdify(V, H_s)\n",
    "\tB_f = lambdify(V, B_s)\n",
    "\tvec_nu.append(calculate_firing_rate(vec_Vk, B_f, H_f))\n",
    "\n",
    "# vec_p0_fliped = np.zeros_like(vec_Vk)\n",
    "# dV = vec_Vk[1] - vec_Vk[0]\n",
    "# vec_Vk_fliped = np.flip(vec_Vk)\n",
    "\n",
    "# vec_p0_fliped[0] = 0\n",
    "\n",
    "# for j, (Vk, p0) in enumerate(zip(vec_Vk_fliped[:-1], vec_p0_fliped[:-1])):\n",
    "# \tBk = B(Vk)\n",
    "# \tHk = H(Vk)\n",
    "# \tif(-0.000001 <= Bk <= 0.000001):\n",
    "# \t\tvec_p0_fliped[j+1] = p0 * np.exp(dV * Bk) + dV * Hk\n",
    "# \telse:\n",
    "# \t\tvec_p0_fliped[j+1] = p0 * np.exp(dV * Bk) + dV * Hk * (np.exp(dV*Bk) - 1) / (dV * Bk)\n",
    "# plt.ylim(-1,1)\n",
    "# vec_p0 = np.flip(vec_p0_fliped)\n",
    "# v = B(vec_Vk)\n",
    "# plt.xlim(-65,-50)\n",
    "# plt.ylim(0,0.015)\n",
    "# plt.plot(vec_Vk, integrate_p0(vec_Vk))\n",
    "# plt.plot(vec_Vk, FA(vec_Vk))\n",
    "# plt.plot(vec_Vk, H(vec_Vk))\n",
    "# plt.plot(vec_Vk, B(vec_Vk))\n",
    "# plt.plot(vec_Vk, F(vec_Vk))\n",
    "# calculate_firing_rate(vec_Vk)"
   ]
  },
  {
   "cell_type": "code",
   "execution_count": 23,
   "metadata": {},
   "outputs": [
    {
     "data": {
      "text/plain": [
       "[<matplotlib.lines.Line2D at 0x7faa3e5c9030>]"
      ]
     },
     "execution_count": 23,
     "metadata": {},
     "output_type": "execute_result"
    },
    {
     "data": {
      "image/png": "[encoded data removed]",
      "text/plain": [
       "<Figure size 720x432 with 1 Axes>"
      ]
     },
     "metadata": {
      "needs_background": "light"
     },
     "output_type": "display_data"
    }
   ],
   "source": [
    "fRate_data_path = \"../../Data/fRate_data/\"\n",
    "df_nu_wI_sim_read = pd.read_csv(f\"{fRate_data_path}firing_rate_iRate_fullNMDA_rate.dat\", index_col=0)\n",
    "valpha = np.linspace(0,1,50)\n",
    "plt.figure(figsize=(10,6))\n",
    "plt.plot(vec_alpha, np.array(vec_nu)*1000)\n",
    "plt.plot(valpha, df_nu_wI_sim_read['5'], 'bo')"
   ]
  },
  {
   "cell_type": "code",
   "execution_count": 1,
   "metadata": {},
   "outputs": [
    {
     "ename": "NameError",
     "evalue": "name 'symbols' is not defined",
     "output_type": "error",
     "traceback": [
      "\u001b[0;31m---------------------------------------------------------------------------\u001b[0m",
      "\u001b[0;31mNameError\u001b[0m                                 Traceback (most recent call last)",
      "\u001b[1;32m/home/marcelo/Workspace/MF_Model/Notebooks/Simbolic_calculations/Fox differetial eq solver NMDA.ipynb Cell 6\u001b[0m in \u001b[0;36m<cell line: 1>\u001b[0;34m()\u001b[0m\n\u001b[0;32m----> <a href='vscode-notebook-cell:/home/marcelo/Workspace/MF_Model/Notebooks/Simbolic_calculations/Fox%20differetial%20eq%20solver%20NMDA.ipynb#W5sZmlsZQ%3D%3D?line=0'>1</a>\u001b[0m k \u001b[39m=\u001b[39m symbols(\u001b[39m'\u001b[39m\u001b[39mk\u001b[39m\u001b[39m'\u001b[39m)\n\u001b[1;32m      <a href='vscode-notebook-cell:/home/marcelo/Workspace/MF_Model/Notebooks/Simbolic_calculations/Fox%20differetial%20eq%20solver%20NMDA.ipynb#W5sZmlsZQ%3D%3D?line=1'>2</a>\u001b[0m simplify(Xi\u001b[39m.\u001b[39msubs({EE:\u001b[39m0\u001b[39m, EL:\u001b[39m-\u001b[39m\u001b[39m60\u001b[39m, tauL:\u001b[39m20\u001b[39m, tauA:\u001b[39m5\u001b[39m, tauN:\u001b[39m100\u001b[39m, KE:\u001b[39m400\u001b[39m, nu:\u001b[39m0.005\u001b[39m, wE:\u001b[39m0.1\u001b[39m, tauI:\u001b[39m10\u001b[39m, EI:\u001b[39m-\u001b[39m\u001b[39m80\u001b[39m, wI:\u001b[39m0.4\u001b[39m, KI:\u001b[39m100\u001b[39m, alpha:\u001b[39m0.1\u001b[39m, beta:\u001b[39m0.062\u001b[39m, gamma:\u001b[39m3.57\u001b[39m, Mg:\u001b[39m1\u001b[39m, k:\u001b[39m1\u001b[39m}))\u001b[39m.\u001b[39msubs(V,\u001b[39m-\u001b[39m\u001b[39m80\u001b[39m)\u001b[39m.\u001b[39mevalf()\n",
      "\u001b[0;31mNameError\u001b[0m: name 'symbols' is not defined"
     ]
    }
   ],
   "source": [
    "k = symbols('k')\n",
    "simplify(Xi.subs({EE:0, EL:-60, tauL:20, tauA:5, tauN:100, KE:400, nu:0.005, wE:0.1, tauI:10, EI:-80, wI:0.4, KI:100, alpha:0.1, beta:0.062, gamma:3.57, Mg:1, k:1})).subs(V,-80).evalf()"
   ]
  },
  {
   "cell_type": "code",
   "execution_count": 33,
   "metadata": {},
   "outputs": [
    {
     "name": "stderr",
     "output_type": "stream",
     "text": [
      "<lambdifygenerated-57>:2: RuntimeWarning: divide by zero encountered in true_divide\n",
      "  return Heaviside(V + 60, 1/2)/(0.00625*V**2/(20.0 - 10*(V + 55.0)/V) + 0.1*(-V - 80)**2/(30.0 + 20*(V + 55.0)/(-V - 80)))\n"
     ]
    },
    {
     "data": {
      "text/plain": [
       "[<matplotlib.lines.Line2D at 0x7f0b72f8c5b0>]"
      ]
     },
     "execution_count": 33,
     "metadata": {},
     "output_type": "execute_result"
    },
    {
     "data": {
      "image/png": "[encoded data removed]",
      "text/plain": [
       "<Figure size 432x288 with 1 Axes>"
      ]
     },
     "metadata": {
      "needs_background": "light"
     },
     "output_type": "display_data"
    }
   ],
   "source": [
    "B_f = lambdify(V, B.subs({EE:0, EL:-60, tauL:20, tauE:5, KE:400, nu:0.005, wE:0.1, tauI:10, EI:-80, wI:0.4, KI:100}))\n",
    "dSE_f = lambdify(V, dSEdV.subs({EE:0, EL:-60, tauL:20, tauE:5, KE:400, nu:0.005, wE:0.1, tauI:10, EI:-80, wI:0.4, KI:100}))\n",
    "SE_f = lambdify(V, SE.subs({EE:0, EL:-60, tauL:20, tauE:5, KE:400, nu:0.005, wE:0.1, tauI:10, EI:-80, wI:0.4, KI:100}))\n",
    "hE_f = lambdify(V, hE.subs({EE:0, EL:-60, tauL:20, tauE:5, KE:400, nu:0.005, wE:0.1, tauI:10, EI:-80, wI:0.4, KI:100}))\n",
    "H_f = lambdify(V, H.subs({EE:0, EL:-60, theta:-50, tauL:20, tauE:5, KE:400, nu:0.005, wE:0.1, tauI:10, EI:-80, wI:0.4, KI:100}))\n",
    "\n",
    "vec_x = np.linspace(-80, -50, 1000)\n",
    "plt.plot(vec_x, H_f(vec_x))"
   ]
  },
  {
   "cell_type": "code",
   "execution_count": null,
   "metadata": {},
   "outputs": [],
   "source": [
    "fig, axs = plt.subplots(2, 2, figsize=(19,12), dpi=100)\n",
    "axs[0][0].set_title(r'$\\tau_E=5ms$')\n",
    "tauE_value = 5\n",
    "f0 = lambdify(V, B0.subs({EE:0, EL:-60, tauL:20, tauE:tauE_value, KE:400, nu:0.005, wE:0.1, tauI:10, EI:-80, wI:0.4, KI:100}))\n",
    "fE = lambdify(V, BE.subs({EE:0, EL:-60, tauL:20, tauE:tauE_value, KE:400, nu:0.005, wE:0.1, tauI:10, EI:-80, wI:0.4, KI:100}))\n",
    "fI = lambdify(V, BI.subs({EE:0, EL:-60, tauL:20, tauE:tauE_value, KE:400, nu:0.005, wE:0.1, tauI:10, EI:-80, wI:0.4, KI:100}))\n",
    "f = lambdify(V, B.subs({EE:0, EL:-60, tauL:20, tauE:tauE_value, KE:400, nu:0.005, wE:0.1, tauI:10, EI:-80, wI:0.4, KI:100}))\n",
    "vec_x = np.linspace(-1000, -50, 1000)\n",
    "axs[0][0].plot(vec_x, f0(vec_x), 'b-', label=r'$B_0$')\n",
    "axs[0][0].plot(vec_x, fE(vec_x), 'r-', label=r'$B_E$')\n",
    "axs[0][0].plot(vec_x, fI(vec_x), 'g-', label=r'$B_I$')\n",
    "axs[0][1].plot(vec_x, f(vec_x), 'y', label=r'$B$')\n",
    "axs[0][0].legend(bbox_to_anchor=(0.18, 0.986), loc=1, borderaxespad=0., prop={'size': 14})\n",
    "axs[0][1].legend(bbox_to_anchor=(0.18, 0.986), loc=1, borderaxespad=0., prop={'size': 14})\n",
    "axs[0][0].set_title(r'$\\tau_E=5ms$')\n",
    "tauE_value = 100\n",
    "f0 = lambdify(V, B0.subs({EE:0, EL:-60, tauL:20, tauE:tauE_value, KE:400, nu:0.005, wE:0.1, tauI:10, EI:-80, wI:0.4, KI:100}))\n",
    "fE = lambdify(V, BE.subs({EE:0, EL:-60, tauL:20, tauE:tauE_value, KE:400, nu:0.005, wE:0.1, tauI:10, EI:-80, wI:0.4, KI:100}))\n",
    "fI = lambdify(V, BI.subs({EE:0, EL:-60, tauL:20, tauE:tauE_value, KE:400, nu:0.005, wE:0.1, tauI:10, EI:-80, wI:0.4, KI:100}))\n",
    "f = lambdify(V, B.subs({EE:0, EL:-60, tauL:20, tauE:tauE_value, KE:400, nu:0.005, wE:0.1, tauI:10, EI:-80, wI:0.4, KI:100}))\n",
    "axs[1][0].plot(vec_x, f0(vec_x), 'b-', label=r'$B_0$')\n",
    "axs[1][0].plot(vec_x, fE(vec_x), 'r-', label=r'$B_E$')\n",
    "axs[1][0].plot(vec_x, fI(vec_x), 'g-', label=r'$B_I$')\n",
    "axs[1][1].plot(vec_x, f(vec_x), 'y', label=r'$B$')\n",
    "axs[1][0].legend(bbox_to_anchor=(0.18, 0.986), loc=1, borderaxespad=0., prop={'size': 14})\n",
    "axs[1][1].legend(bbox_to_anchor=(0.18, 0.986), loc=1, borderaxespad=0., prop={'size': 14})\n",
    "axs[1][0].set_title(r'$\\tau_E=100ms$')"
   ]
  },
  {
   "cell_type": "code",
   "execution_count": null,
   "metadata": {},
   "outputs": [],
   "source": []
  },
  {
   "cell_type": "code",
   "execution_count": null,
   "metadata": {},
   "outputs": [],
   "source": [
    "x = symbols('x')\n",
    "an = symbols('a_n', constant=True)\n",
    "bn = symbols('b_n', constant=True)\n",
    "cn = symbols('c_n', constant=True)\n",
    "dn = symbols('d_n', constant=True)\n",
    "\n",
    "ad = symbols('a_d', constant=True)\n",
    "bd = symbols('b_d', constant=True)\n",
    "cd = symbols('c_d', constant=True)\n",
    "dd = symbols('d_d', constant=True)\n",
    "ed = symbols('e_d', constant=True)\n",
    "\n",
    "num_generic = poly(an*x + bn*x**2 + cn*x**3 + dn*x**4)\n",
    "den_generic = poly(ad*x + bd*x**2 + cd*x**3 + dd*x**4 + ed*x**5)\n",
    "\n",
    "expression = num_generic/den_generic\n",
    "\n",
    "integrate(expression, x)\n"
   ]
  },
  {
   "cell_type": "code",
   "execution_count": null,
   "metadata": {},
   "outputs": [],
   "source": [
    "IE_is = IE_i.subs({EE:0, EL:-60, tauL:20, tauE:5, KE:400, nuE:0.005, wE:0.4})\n",
    "\n",
    "IE_if = lambdify(V, IE_is)\n",
    "vec_x = np.linspace(-100, -50, 1000)\n",
    "vec_IE = IE_if(vec_x)\n",
    "\n",
    "plt.plot(vec_x, vec_IE)\n"
   ]
  },
  {
   "cell_type": "code",
   "execution_count": null,
   "metadata": {},
   "outputs": [],
   "source": [
    "def IE(x):\n",
    "    return integrate.quad(IE_if, -np.inf, x, limit=1000)[0]\n",
    "IE = np.vectorize(IE)\n",
    "integrand = ((EE - V)**(2*tauL**2/(sigmaE**2*tau*tauE))/hE*exp(LE)).subs({EE:0, EL:-60, tauL:20, tauE:5, KE:400, nuE:0.005, wE:0.4})\n",
    "ii = lambdify(V, integrand)\n",
    "vec_ii = ii(vec_x)*IE(vec_x)\n",
    "\n",
    "plt.plot(vec_x, vec_ii)\n",
    "# integrand"
   ]
  },
  {
   "cell_type": "code",
   "execution_count": null,
   "metadata": {},
   "outputs": [],
   "source": [
    "simplify((hE*FE).subs({V:mu}))"
   ]
  },
  {
   "cell_type": "code",
   "execution_count": null,
   "metadata": {},
   "outputs": [],
   "source": [
    "integrand = simplify((EE - V)**(-tau/(sigmaE**2*tau**4))*exp(-LE)/FE)\n",
    "integrands = simplify(integrand.subs({EE:0, EL:-60, tauL:20, tauE:5, KE:400, nuE:0.005, wE:0.4}))\n",
    "\n",
    "\n",
    "# f = lambdify(V, integrands)\n",
    "# data = np.linspace(-100, -50, 1000)\n",
    "# plt.plot(data, f(data))\n",
    "integrands"
   ]
  },
  {
   "cell_type": "code",
   "execution_count": null,
   "metadata": {},
   "outputs": [],
   "source": [
    "x = symbols('x')\n",
    "integrand = (V - mu)/(hE*FE*tau)\n",
    "I = simplify(integrand)\n",
    "I\n",
    "simplify(integrate(I, V))"
   ]
  },
  {
   "cell_type": "code",
   "execution_count": null,
   "metadata": {},
   "outputs": [],
   "source": [
    "# hA/(1 + (tauA/tau)*(1 - (dhAdV/hA)*(V-mu)))\n",
    "hA\n",
    "FAs"
   ]
  },
  {
   "cell_type": "code",
   "execution_count": null,
   "metadata": {},
   "outputs": [],
   "source": [
    "FA = simplify(FA)\n",
    "FAs = simplify(FA.subs({EE:0, EL:-60, tauL:20, tauA:5, KE:400, nuE:0.005, wE:0.4}))\n",
    "\n",
    "f = lambdify(V, FAs)\n",
    "data = np.linspace(-100, 100, 1000)\n",
    "plt.plot(data, f(data))"
   ]
  },
  {
   "cell_type": "code",
   "execution_count": 42,
   "metadata": {
    "collapsed": true,
    "jupyter": {
     "outputs_hidden": true
    }
   },
   "outputs": [],
   "source": [
    "x = symbols('x')\n",
    "# FA = symbols('F_A')\n",
    "\n",
    "exponent = (-tauL**2*(EE - mu)/(sigmaA**2*tau**2*tauA*(EE - V)) * (2*tau - tauA*(EE - 2*V + mu)/(EE-V)))\n",
    "# exponent\n",
    "\n",
    "coeff = ((EE - V)**(-2*tauL**2/(sigmaA**2*tau*tauA)))/FA\n",
    "coeff\n",
    "\n",
    "integrand = coeff*exp(exponent)\n",
    "integrand = simplify(integrand)\n",
    "# integrand\n",
    "\n",
    "# integrand\n",
    "# I = integrate(integrand, (V, -oo, x))\n",
    "# collect(collect(collect(collect(factor(GA), log(-EE + V)), V), EE), mu)\n",
    "# integrand.subs"
   ]
  },
  {
   "cell_type": "code",
   "execution_count": null,
   "metadata": {},
   "outputs": [],
   "source": [
    "expr = integrand.subs({EE:0, EL:-60, tauL:20, tauA:5, KE:400, nuE:0.005, wE:0.4})\n",
    "expr = simplify(expr)\n",
    "f = lambdify(V, expr)\n",
    "data = np.linspace(-60, -50, 1000)\n",
    "# f(data)\n",
    "plt.plot(data, f(data))\n",
    "# expr"
   ]
  },
  {
   "cell_type": "code",
   "execution_count": null,
   "metadata": {},
   "outputs": [],
   "source": [
    "C = (tauL*sqrt(tauA)/(sigmaA*tau**2))*(tau*(EE-V) + tauA*(EE-mu))/(V-EE)**(2*(1+tauL**2/(tauA*tau*sigmaA**2)))\n",
    "exponential = exp(-tauL**2*(EE**2*(2 - tauA/tau) - 2*EE*mu - 2*V*(EE-mu)*(1 - tauA/tau) + mu**2*tauA/tau)/(sigmaA**2*tau*tauA*(EE-V)**2))\n",
    "\n",
    "expr = simplify(C*exponential).subs({EE:0, EL:-60, tauL:20, tauA:5, KE:400, nuE:5, wE:0.1})\n",
    "f = lambdify(V, expr)\n",
    "data = np.linspace(-100, -50, 100)\n",
    "# f(data)\n",
    "expr"
   ]
  },
  {
   "cell_type": "code",
   "execution_count": 17,
   "metadata": {},
   "outputs": [
    {
     "data": {
      "text/plain": [
       "True"
      ]
     },
     "execution_count": 17,
     "metadata": {},
     "output_type": "execute_result"
    }
   ],
   "source": []
  }
 ],
 "metadata": {
  "interpreter": {
   "hash": "98c6dd40333d5354a17017e1bca71ec871e410bcd8a22f3cc0eb808b34c46cd4"
  },
  "kernelspec": {
   "display_name": "Python 3.10.4 ('worklab')",
   "language": "python",
   "name": "python3"
  },
  "language_info": {
   "codemirror_mode": {
    "name": "ipython",
    "version": 3
   },
   "file_extension": ".py",
   "mimetype": "text/x-python",
   "name": "python",
   "nbconvert_exporter": "python",
   "pygments_lexer": "ipython3",
   "version": "3.10.4"
  }
 },
 "nbformat": 4,
 "nbformat_minor": 4
}
