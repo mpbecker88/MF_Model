{
 "cells": [
  {
   "cell_type": "code",
   "execution_count": 1,
   "metadata": {},
   "outputs": [],
   "source": [
    "%matplotlib inline\n",
    "import matplotlib.pyplot as plt\n",
    "from brian2 import *\n",
    "from brian2tools import *\n",
    "import numpy as np\n",
    "import pandas as pd\n",
    "\n",
    "\n",
    "# Customize matplotlib\n",
    "matplotlib.rcParams.update(\n",
    "    {\n",
    "        'text.usetex': False,\n",
    "        'font.family': 'stixgeneral',\n",
    "        'mathtext.fontset': 'stix',\n",
    "        'font.size': 22,\n",
    "        'ytick.color' : 'black',\n",
    "        \"xtick.color\" : 'black',\n",
    "        'axes.labelcolor' : 'black',\n",
    "        'axes.edgecolor' : 'black'\n",
    "\t}\n",
    ")"
   ]
  },
  {
   "cell_type": "code",
   "execution_count": 2,
   "metadata": {},
   "outputs": [
    {
     "name": "stdout",
     "output_type": "stream",
     "text": [
      "2\t0.0 "
     ]
    },
    {
     "name": "stderr",
     "output_type": "stream",
     "text": [
      "WARNING    \"tauA\" is an internal variable of group \"neurongroup\", but also exists in the run namespace with the value 2. The internal variable will be used. [brian2.groups.group.Group.resolve.resolution_conflict]\n"
     ]
    },
    {
     "name": "stdout",
     "output_type": "stream",
     "text": [
      "0.01 "
     ]
    },
    {
     "name": "stderr",
     "output_type": "stream",
     "text": [
      "WARNING    \"tauA\" is an internal variable of group \"neurongroup_1\", but also exists in the run namespace with the value 2. The internal variable will be used. [brian2.groups.group.Group.resolve.resolution_conflict]\n"
     ]
    },
    {
     "name": "stdout",
     "output_type": "stream",
     "text": [
      "0.02 0.03 0.04 0.05 0.06 0.07 0.08 0.09 0.1 0.11 0.12 0.13 0.14 0.15 0.16 0.17 0.18 0.19 0.2 0.21 0.22 0.23 0.24 0.25 0.26 0.27 0.28 0.29 0.3 0.31 0.32 0.33 0.34 0.35 0.36 0.37 0.38 0.39 0.4 0.41 0.42 0.43 0.44 0.45 0.46 0.47 0.48 0.49 0.5 0.51 0.52 0.53 0.54 0.55 0.56 0.57 0.58 0.59 0.6 0.61 0.62 0.63 0.64 0.65 0.66 0.67 0.68 0.69 0.7 0.71 0.72 0.73 0.74 0.75 0.76 0.77 0.78 0.79 0.8 0.81 0.82 0.83 0.84 0.85 0.86 0.87 0.88 0.89 0.9 0.91 0.92 0.93 0.94 0.95 0.96 0.97 0.98 0.99 \n"
     ]
    }
   ],
   "source": [
    "n_points = 100\n",
    "n_samples = 1\n",
    "vec_nu = []\n",
    "for nu_value in np.linspace(0.1, 100, n_points):\n",
    "\tfor n in range(n_samples):\n",
    "\t\tvec_nu.append(nu_value)\n",
    "\n",
    "vec_nu = np.array(vec_nu)\n",
    "\n",
    "EL = -60*mV\n",
    "EE = 0*mV\n",
    "EI = -80*mV\n",
    "alpha = 1\n",
    "tauN = 100*ms\n",
    "tauI = 10*ms\n",
    "tauL = 20*ms\n",
    "vt = -50*mV\n",
    "\n",
    "eqs = '''\n",
    "dv/dt = ((EL - v) + gA*(EE - v) + gI*(EI - v))/tauL : volt (unless refractory)\n",
    "dgA/dt = -gA/tauA : 1\n",
    "dgI/dt = -gI/tauI : 1\n",
    "tauA : second\n",
    "'''\n",
    "\n",
    "tauA_list = [2]\n",
    "firing_rate_ta = {'nu':vec_nu, 2:np.zeros(n_points*n_samples)}\n",
    "CVISI_ta = {'nu':vec_nu, 2:np.zeros(n_points*n_samples)}\n",
    "\n",
    "for tauA in tauA_list:\n",
    "\tprint(tauA, end='\\t')\n",
    "\tfor i, nu_value in enumerate(vec_nu):\n",
    "\t\tprint(i/size(vec_nu), end=' ')\n",
    "\t\tstart_scope()\n",
    "\t\tdefaultclock.dt = 0.01*ms\n",
    "\t\tG = NeuronGroup(1, eqs, threshold='v>vt', reset='v=EL', refractory=2*ms, method='rk4')\n",
    "\t\tGPE = PoissonGroup(400, rates=nu_value*Hz)\n",
    "\t\tGPI = PoissonGroup(100, rates=nu_value*Hz)\n",
    "\n",
    "\t\tSE = Synapses(GPE, G, 'w : 1', on_pre='gA += w')\n",
    "\t\tSI = Synapses(GPI, G, 'w : 1', on_pre='gI += w')\n",
    "\t\tSE.connect()\n",
    "\t\tSI.connect()\n",
    "\n",
    "\t\tG.v = EL\n",
    "\t\tSE.w = 0.1\n",
    "\t\tSI.w = 0.4\n",
    "\n",
    "\t\tG.tauA = tauA*ms\n",
    "\n",
    "\t\trun(5000*ms)\n",
    "\n",
    "\t\tM = StateMonitor(G, 'v', record=True)\n",
    "\t\tspkM = SpikeMonitor(G)\n",
    "\t\t\n",
    "\t\trun(20000*ms)\n",
    "\n",
    "\t\ttrain = spkM.spike_trains()\n",
    "\t\tISI = np.diff(train[0])\n",
    "\n",
    "\t\tfiring_rate_ta[tauA][i] = spkM.num_spikes/20.0\n",
    "\t\tCVISI_ta[tauA][i] = ISI.var()/ISI.mean()**2\n",
    "\n",
    "\tprint()"
   ]
  },
  {
   "cell_type": "code",
   "execution_count": 3,
   "metadata": {},
   "outputs": [],
   "source": [
    "# Convert to pandas DataFrame\n",
    "df_firing_rate = pd.DataFrame.from_dict(firing_rate_ta)\n",
    "df_CVISI_ta = pd.DataFrame.from_dict(CVISI_ta)\n",
    "\n",
    "# Save Dataframe do csv file\n",
    "df_firing_rate.to_csv('firing_rate_iRate_tauFixed_2.dat')\n",
    "df_CVISI_ta.to_csv('CVISI_ta_iRate_tauFixed_2.dat')"
   ]
  },
  {
   "cell_type": "code",
   "execution_count": 5,
   "metadata": {},
   "outputs": [
    {
     "data": {
      "text/html": [
       "<div>\n",
       "<style scoped>\n",
       "    .dataframe tbody tr th:only-of-type {\n",
       "        vertical-align: middle;\n",
       "    }\n",
       "\n",
       "    .dataframe tbody tr th {\n",
       "        vertical-align: top;\n",
       "    }\n",
       "\n",
       "    .dataframe thead th {\n",
       "        text-align: right;\n",
       "    }\n",
       "</style>\n",
       "<table border=\"1\" class=\"dataframe\">\n",
       "  <thead>\n",
       "    <tr style=\"text-align: right;\">\n",
       "      <th></th>\n",
       "      <th>nu</th>\n",
       "      <th>2</th>\n",
       "    </tr>\n",
       "  </thead>\n",
       "  <tbody>\n",
       "    <tr>\n",
       "      <th>0</th>\n",
       "      <td>0.100000</td>\n",
       "      <td>0.0</td>\n",
       "    </tr>\n",
       "    <tr>\n",
       "      <th>1</th>\n",
       "      <td>1.109091</td>\n",
       "      <td>0.0</td>\n",
       "    </tr>\n",
       "    <tr>\n",
       "      <th>2</th>\n",
       "      <td>2.118182</td>\n",
       "      <td>0.0</td>\n",
       "    </tr>\n",
       "    <tr>\n",
       "      <th>3</th>\n",
       "      <td>3.127273</td>\n",
       "      <td>0.0</td>\n",
       "    </tr>\n",
       "    <tr>\n",
       "      <th>4</th>\n",
       "      <td>4.136364</td>\n",
       "      <td>0.0</td>\n",
       "    </tr>\n",
       "    <tr>\n",
       "      <th>...</th>\n",
       "      <td>...</td>\n",
       "      <td>...</td>\n",
       "    </tr>\n",
       "    <tr>\n",
       "      <th>95</th>\n",
       "      <td>95.963636</td>\n",
       "      <td>0.0</td>\n",
       "    </tr>\n",
       "    <tr>\n",
       "      <th>96</th>\n",
       "      <td>96.972727</td>\n",
       "      <td>0.0</td>\n",
       "    </tr>\n",
       "    <tr>\n",
       "      <th>97</th>\n",
       "      <td>97.981818</td>\n",
       "      <td>0.0</td>\n",
       "    </tr>\n",
       "    <tr>\n",
       "      <th>98</th>\n",
       "      <td>98.990909</td>\n",
       "      <td>0.0</td>\n",
       "    </tr>\n",
       "    <tr>\n",
       "      <th>99</th>\n",
       "      <td>100.000000</td>\n",
       "      <td>0.0</td>\n",
       "    </tr>\n",
       "  </tbody>\n",
       "</table>\n",
       "<p>100 rows × 2 columns</p>\n",
       "</div>"
      ],
      "text/plain": [
       "            nu    2\n",
       "0     0.100000  0.0\n",
       "1     1.109091  0.0\n",
       "2     2.118182  0.0\n",
       "3     3.127273  0.0\n",
       "4     4.136364  0.0\n",
       "..         ...  ...\n",
       "95   95.963636  0.0\n",
       "96   96.972727  0.0\n",
       "97   97.981818  0.0\n",
       "98   98.990909  0.0\n",
       "99  100.000000  0.0\n",
       "\n",
       "[100 rows x 2 columns]"
      ]
     },
     "execution_count": 5,
     "metadata": {},
     "output_type": "execute_result"
    },
    {
     "data": {
      "image/png": "[encoded data removed]",
      "text/plain": [
       "<Figure size 432x288 with 1 Axes>"
      ]
     },
     "metadata": {
      "needs_background": "light"
     },
     "output_type": "display_data"
    }
   ],
   "source": [
    "df_firing_rate.plot('nu', 2)\n",
    "df_firing_rate"
   ]
  },
  {
   "cell_type": "code",
   "execution_count": 5,
   "metadata": {},
   "outputs": [
    {
     "data": {
      "text/plain": [
       "<AxesSubplot:xlabel='nu'>"
      ]
     },
     "execution_count": 5,
     "metadata": {},
     "output_type": "execute_result"
    },
    {
     "data": {
      "image/png": "[encoded data removed]",
      "text/plain": [
       "<Figure size 432x288 with 1 Axes>"
      ]
     },
     "metadata": {
      "needs_background": "light"
     },
     "output_type": "display_data"
    }
   ],
   "source": [
    "df_firing_rate.plot('nu', 5)"
   ]
  },
  {
   "cell_type": "code",
   "execution_count": 41,
   "metadata": {},
   "outputs": [],
   "source": [
    "EL = -60*mV\n",
    "EE = 0*mV\n",
    "EI = -80*mV\n",
    "alpha = 1\n",
    "tauN = 100*ms\n",
    "tauI = 10*ms\n",
    "tauL = 20*ms\n",
    "vt = -50*mV\n",
    "nu_value = 200\n",
    "\n",
    "eqs = '''\n",
    "dv/dt = ((EL - v) + gA*(EE - v) + gI*(EI - v))/tauL : volt (unless refractory)\n",
    "dgA/dt = -gA/tauA : 1\n",
    "dgI/dt = -gI/tauI : 1\n",
    "tauA : second\n",
    "'''\n",
    "\n",
    "start_scope()\n",
    "defaultclock.dt = 0.01*ms\n",
    "G = NeuronGroup(1, eqs, threshold='v>vt', reset='v=EL', refractory=2*ms, method='rk4')\n",
    "GPE = PoissonGroup(400, rates=nu_value*Hz)\n",
    "GPI = PoissonGroup(100, rates=nu_value*Hz)\n",
    "\n",
    "SE = Synapses(GPE, G, 'w : 1', on_pre='gA += w')\n",
    "SI = Synapses(GPI, G, 'w : 1', on_pre='gI += w')\n",
    "SE.connect()\n",
    "SI.connect()\n",
    "\n",
    "G.v = EL\n",
    "SE.w = 0.8\n",
    "SI.w = 1.6\n",
    "\n",
    "G.tauA = tauA*ms\n",
    "\n",
    "run(20000*ms)\n",
    "\n",
    "M = StateMonitor(G, 'v', record=True)\n",
    "spkM = SpikeMonitor(G)\n",
    "\n",
    "run(1000*ms)\n",
    "\n",
    "train = spkM.spike_trains()\n",
    "ISI = np.diff(train[0])"
   ]
  },
  {
   "cell_type": "code",
   "execution_count": 43,
   "metadata": {},
   "outputs": [
    {
     "data": {
      "text/plain": [
       "<AxesSubplot:xlabel='time (ms)', ylabel='v (mV)'>"
      ]
     },
     "execution_count": 43,
     "metadata": {},
     "output_type": "execute_result"
    },
    {
     "data": {
      "image/png": "[encoded data removed]",
      "text/plain": [
       "<Figure size 432x288 with 1 Axes>"
      ]
     },
     "metadata": {
      "needs_background": "light"
     },
     "output_type": "display_data"
    }
   ],
   "source": [
    "# plot_state(M.t[:1000], M.v.T[:1000])\n",
    "brian_plot(M)"
   ]
  },
  {
   "cell_type": "code",
   "execution_count": 6,
   "metadata": {},
   "outputs": [],
   "source": [
    "df_rate = pd.read_csv('firing_rate_iRate_tauFixed.dat', index_col=0)\n",
    "df_rate_2 = pd.read_csv('firing_rate_iRate_tauFixed_2.dat', index_col=0)\n",
    "df_rate_5 = pd.read_csv('firing_rate_iRate_tauFixed_5.dat', index_col=0)\n",
    "df_rate_10 = pd.read_csv('firing_rate_iRate_tauFixed_10.dat', index_col=0)"
   ]
  },
  {
   "cell_type": "code",
   "execution_count": 33,
   "metadata": {},
   "outputs": [],
   "source": [
    "# df_rate = df_rate.join([df_rate_2['2'], df_rate_10['10']])\n",
    "cols = df_rate.columns.tolist()\n",
    "cols\n",
    "cols = cols[:1] + cols[-2:-1] + cols[1:2] + cols[-1:] + cols[2:5] "
   ]
  },
  {
   "cell_type": "code",
   "execution_count": 35,
   "metadata": {},
   "outputs": [],
   "source": [
    "df_rate[cols].to_csv('firing_rate_iRate_tauFixed.dat')"
   ]
  }
 ],
 "metadata": {
  "interpreter": {
   "hash": "815ffe0c3f450b1929060029d8bbc4bb978e145d9c20d51b98b455a88b55799b"
  },
  "kernelspec": {
   "display_name": "Python 3.9.2 64-bit ('worklab': conda)",
   "language": "python",
   "name": "python3"
  },
  "language_info": {
   "codemirror_mode": {
    "name": "ipython",
    "version": 3
   },
   "file_extension": ".py",
   "mimetype": "text/x-python",
   "name": "python",
   "nbconvert_exporter": "python",
   "pygments_lexer": "ipython3",
   "version": "3.9.2"
  },
  "orig_nbformat": 4
 },
 "nbformat": 4,
 "nbformat_minor": 2
}
