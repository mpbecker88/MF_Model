{
 "cells": [
  {
   "cell_type": "code",
   "execution_count": 1,
   "metadata": {},
   "outputs": [
    {
     "name": "stderr",
     "output_type": "stream",
     "text": [
      "INFO:numexpr.utils:NumExpr defaulting to 8 threads.\n"
     ]
    }
   ],
   "source": [
    "%matplotlib inline\n",
    "import matplotlib.pyplot as plt\n",
    "from brian2 import *\n",
    "from brian2tools import *\n",
    "import numpy as np\n",
    "import pandas as pd\n",
    "\n",
    "\n",
    "# Customize matplotlib\n",
    "matplotlib.rcParams.update(\n",
    "    {\n",
    "        'text.usetex': False,\n",
    "        'font.family': 'stixgeneral',\n",
    "        'mathtext.fontset': 'stix',\n",
    "        'font.size': 22,\n",
    "        'ytick.color' : 'black',\n",
    "        \"xtick.color\" : 'black',\n",
    "        'axes.labelcolor' : 'black',\n",
    "        'axes.edgecolor' : 'black'\n",
    "\t}\n",
    ")"
   ]
  },
  {
   "cell_type": "code",
   "execution_count": 2,
   "metadata": {},
   "outputs": [
    {
     "name": "stdout",
     "output_type": "stream",
     "text": [
      "5\t0.0 "
     ]
    },
    {
     "name": "stderr",
     "output_type": "stream",
     "text": [
      "WARNING    /home/marcelo/miniconda3/envs/worklab/lib/python3.10/site-packages/brian2/units/fundamentalunits.py:252: RuntimeWarning: Degrees of freedom <= 0 for slice\n",
      "  return Quantity(func(ar, *args, **kwds),\n",
      " [py.warnings]\n",
      "WARNING:py.warnings:/home/marcelo/miniconda3/envs/worklab/lib/python3.10/site-packages/brian2/units/fundamentalunits.py:252: RuntimeWarning: Degrees of freedom <= 0 for slice\n",
      "  return Quantity(func(ar, *args, **kwds),\n",
      "\n",
      "WARNING    /home/marcelo/miniconda3/envs/worklab/lib/python3.10/site-packages/numpy/core/_methods.py:222: RuntimeWarning: invalid value encountered in true_divide\n",
      "  arrmean = um.true_divide(arrmean, div, out=arrmean, casting='unsafe',\n",
      " [py.warnings]\n",
      "WARNING:py.warnings:/home/marcelo/miniconda3/envs/worklab/lib/python3.10/site-packages/numpy/core/_methods.py:222: RuntimeWarning: invalid value encountered in true_divide\n",
      "  arrmean = um.true_divide(arrmean, div, out=arrmean, casting='unsafe',\n",
      "\n",
      "WARNING    /home/marcelo/miniconda3/envs/worklab/lib/python3.10/site-packages/numpy/core/_methods.py:256: RuntimeWarning: invalid value encountered in double_scalars\n",
      "  ret = ret.dtype.type(ret / rcount)\n",
      " [py.warnings]\n",
      "WARNING:py.warnings:/home/marcelo/miniconda3/envs/worklab/lib/python3.10/site-packages/numpy/core/_methods.py:256: RuntimeWarning: invalid value encountered in double_scalars\n",
      "  ret = ret.dtype.type(ret / rcount)\n",
      "\n",
      "WARNING    /home/marcelo/miniconda3/envs/worklab/lib/python3.10/site-packages/brian2/units/fundamentalunits.py:229: RuntimeWarning: Mean of empty slice.\n",
      "  return Quantity(func(np.array(x, copy=False), *args, **kwds), dim=x.dim)\n",
      " [py.warnings]\n",
      "WARNING:py.warnings:/home/marcelo/miniconda3/envs/worklab/lib/python3.10/site-packages/brian2/units/fundamentalunits.py:229: RuntimeWarning: Mean of empty slice.\n",
      "  return Quantity(func(np.array(x, copy=False), *args, **kwds), dim=x.dim)\n",
      "\n",
      "WARNING    /home/marcelo/miniconda3/envs/worklab/lib/python3.10/site-packages/numpy/core/_methods.py:189: RuntimeWarning: invalid value encountered in double_scalars\n",
      "  ret = ret.dtype.type(ret / rcount)\n",
      " [py.warnings]\n",
      "WARNING:py.warnings:/home/marcelo/miniconda3/envs/worklab/lib/python3.10/site-packages/numpy/core/_methods.py:189: RuntimeWarning: invalid value encountered in double_scalars\n",
      "  ret = ret.dtype.type(ret / rcount)\n",
      "\n"
     ]
    },
    {
     "name": "stdout",
     "output_type": "stream",
     "text": [
      "0.02 0.04 0.06 0.08 0.1 0.12 0.14 0.16 0.18 0.2 0.22 0.24 0.26 0.28 0.3 0.32 0.34 0.36 0.38 0.4 0.42 0.44 0.46 0.48 0.5 0.52 0.54 0.56 0.58 0.6 0.62 0.64 0.66 0.68 0.7 0.72 0.74 0.76 0.78 0.8 0.82 0.84 0.86 0.88 0.9 0.92 0.94 0.96 0.98 \n",
      "\n",
      "10\t0.0 0.02 0.04 0.06 0.08 0.1 0.12 0.14 0.16 0.18 0.2 0.22 0.24 0.26 0.28 0.3 0.32 0.34 0.36 0.38 0.4 0.42 0.44 0.46 0.48 0.5 0.52 0.54 0.56 0.58 0.6 0.62 0.64 0.66 0.68 0.7 0.72 0.74 0.76 0.78 0.8 0.82 0.84 0.86 0.88 0.9 0.92 0.94 0.96 0.98 \n",
      "\n",
      "20\t0.0 0.02 0.04 0.06 0.08 0.1 0.12 0.14 0.16 0.18 0.2 0.22 0.24 0.26 0.28 0.3 0.32 0.34 0.36 0.38 0.4 0.42 0.44 0.46 0.48 0.5 0.52 0.54 0.56 0.58 0.6 0.62 0.64 0.66 0.68 0.7 0.72 0.74 0.76 0.78 0.8 0.82 0.84 0.86 0.88 0.9 0.92 0.94 0.96 0.98 \n",
      "\n"
     ]
    }
   ],
   "source": [
    "n_points = 50\n",
    "n_samples = 1\n",
    "vec_alpha = []\n",
    "for alpha_value in np.linspace(0, 1, n_points):\n",
    "\tfor n in range(n_samples):\n",
    "\t\tvec_alpha.append(alpha_value)\n",
    "\n",
    "vec_alpha = np.array(vec_alpha)\n",
    "\n",
    "EL = -60*mV\n",
    "EE = 0*mV\n",
    "EI = -80*mV\n",
    "tauA = 1*ms\n",
    "tauN = 100*ms\n",
    "tauI = 10*ms\n",
    "tauL = 20*ms\n",
    "vt = -50*mV\n",
    "nMg = 1*mM\n",
    "gamma = 3.57*mM\n",
    "b = 0.062/mV\n",
    "\n",
    "eqs = '''\n",
    "dv/dt = ((EL - v) + ((1 - alpha)*gA + alpha*s*gN)*(EE - v) + gI*(EI - v))/tauL : volt (unless refractory)\n",
    "dgA/dt = -gA/tauA : 1\n",
    "dgN/dt = -gN/tauN : 1\n",
    "dgI/dt = -gI/tauI : 1\n",
    "s = 1/(1+(nMg/gamma)*exp(-b*v)) : 1\n",
    "alpha : 1\n",
    "'''\n",
    "\n",
    "rate_list = [5, 10, 20]\n",
    "firing_rate_alpha = {'alpha':vec_alpha, 5:np.zeros(n_points*n_samples), 10:np.zeros(n_points*n_samples), 20:np.zeros(n_points*n_samples)}\n",
    "CVISI_alpha = {'alpha':vec_alpha, 5:np.zeros(n_points*n_samples), 10:np.zeros(n_points*n_samples), 20:np.zeros(n_points*n_samples)}\n",
    "\n",
    "for rate in rate_list:\n",
    "\tprint(rate, end='\\t')\n",
    "\tfor i, alpha_value in enumerate(vec_alpha):\n",
    "\t\tstart_scope()\n",
    "\t\tprint(i/size(vec_alpha), end=' ')\n",
    "\t\tdefaultclock.dt = 0.01*ms\n",
    "\t\tG = NeuronGroup(1, eqs, threshold='v>vt', reset='v=EL', refractory=2*ms, method='rk4')\n",
    "\t\tGPA = PoissonGroup(400, rates=rate*Hz)\n",
    "\t\tGPN = PoissonGroup(400, rates=rate*Hz)\n",
    "\t\tGPI = PoissonGroup(100, rates=rate*Hz)\n",
    "\n",
    "\t\tSA = Synapses(GPA, G, 'w : 1', on_pre='gA += w')\n",
    "\t\tSN = Synapses(GPN, G, 'w : 1', on_pre='gN += w')\n",
    "\t\tSI = Synapses(GPI, G, 'w : 1', on_pre='gI += w')\n",
    "\t\tSA.connect()\n",
    "\t\tSN.connect()\n",
    "\t\tSI.connect()\n",
    "\n",
    "\t\tG.v = EL\n",
    "\t\tSA.w = 0.1\n",
    "\t\tSN.w = 0.1\n",
    "\t\tSI.w = 0.4\n",
    "\n",
    "\t\tG.alpha = alpha_value\n",
    "\t\t\t\n",
    "\t\trun(5000*ms)\n",
    "\t\t\n",
    "\t\tspkM = SpikeMonitor(G)\n",
    "\n",
    "\t\trun(10000*ms)\n",
    "\t\t\n",
    "\t\ttrain = spkM.spike_trains()\n",
    "\t\tISI = np.diff(train[0])\n",
    "\n",
    "\t\tfiring_rate_alpha[rate][i] = spkM.num_spikes/10.0\n",
    "\t\tCVISI_alpha[rate][i] = ISI.var()/ISI.mean()**2\n",
    "    \n",
    "\tprint('\\n')"
   ]
  },
  {
   "cell_type": "code",
   "execution_count": 5,
   "metadata": {},
   "outputs": [],
   "source": [
    "fRate_data_path = \"../../Data/fRate_data/\"\n",
    "V_data_path = \"../../Data/V_data/\"\n",
    "\n",
    "# Convert to pandas DataFrame\n",
    "df_firing_rate = pd.DataFrame.from_dict(firing_rate_alpha)\n",
    "df_CVISI = pd.DataFrame.from_dict(CVISI_alpha)\n",
    "\n",
    "# Save Dataframe do csv file\n",
    "df_firing_rate.to_csv(f'{fRate_data_path}firing_rate_iRate_fullNMDA_rate.dat')\n",
    "df_CVISI.to_csv(f'{fRate_data_path}CVISI_ta_iRate_fullNMDA_rate.dat')"
   ]
  }
 ],
 "metadata": {
  "interpreter": {
   "hash": "98c6dd40333d5354a17017e1bca71ec871e410bcd8a22f3cc0eb808b34c46cd4"
  },
  "kernelspec": {
   "display_name": "Python 3.10.4 ('worklab')",
   "language": "python",
   "name": "python3"
  },
  "language_info": {
   "codemirror_mode": {
    "name": "ipython",
    "version": 3
   },
   "file_extension": ".py",
   "mimetype": "text/x-python",
   "name": "python",
   "nbconvert_exporter": "python",
   "pygments_lexer": "ipython3",
   "version": "3.10.4"
  },
  "orig_nbformat": 4
 },
 "nbformat": 4,
 "nbformat_minor": 2
}
