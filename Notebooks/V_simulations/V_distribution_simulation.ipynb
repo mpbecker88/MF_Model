{
 "cells": [
  {
   "cell_type": "code",
   "execution_count": 7,
   "metadata": {},
   "outputs": [],
   "source": [
    "%matplotlib inline\n",
    "import matplotlib.pyplot as plt\n",
    "from brian2 import *\n",
    "from brian2tools import *\n",
    "import numpy as np\n",
    "import pandas as pd\n",
    "\n",
    "\n",
    "# Customize matplotlib\n",
    "matplotlib.rcParams.update(\n",
    "    {\n",
    "        'text.usetex': False,\n",
    "        'font.family': 'stixgeneral',\n",
    "        'mathtext.fontset': 'stix',\n",
    "        'font.size': 22,\n",
    "        'ytick.color' : 'black',\n",
    "        \"xtick.color\" : 'black',\n",
    "        'axes.labelcolor' : 'black',\n",
    "        'axes.edgecolor' : 'black'\n",
    "\t}\n",
    ")"
   ]
  },
  {
   "cell_type": "code",
   "execution_count": 8,
   "metadata": {},
   "outputs": [
    {
     "name": "stdout",
     "output_type": "stream",
     "text": [
      "1 20 70 "
     ]
    }
   ],
   "source": [
    "n_points = 200\n",
    "n_samples = 1\n",
    "vec_tauE = [1, 20, 70]\n",
    "\n",
    "vec_tauE = np.array(vec_tauE)\n",
    "\n",
    "EL = -60*mV\n",
    "EE = 0*mV\n",
    "EI = -80*mV\n",
    "alpha = 1\n",
    "tauN = 100*ms\n",
    "tauI = 10*ms\n",
    "tauL = 20*ms\n",
    "vt = -50*mV\n",
    "\n",
    "eqs = '''\n",
    "dv/dt = ((EL - v) + gE*(EE - v) + gI*(EI - v))/tauL : volt (unless refractory)\n",
    "dgE/dt = -gE/tauE : 1\n",
    "dgI/dt = -gI/tauI : 1\n",
    "tauE : second\n",
    "'''\n",
    "\n",
    "rate = 5\n",
    "dic_V_evol = {}\n",
    "\n",
    "for tauE_value in vec_tauE:\n",
    "\tstart_scope()\n",
    "\tdefaultclock.dt = 0.001*ms\n",
    "\tprint(tauE_value, end=' ')\n",
    "\tG = NeuronGroup(1, eqs, threshold='v>vt', reset='v=EL', refractory=2*ms, method='rk4')\n",
    "\tGPE = PoissonGroup(400, rates=rate*Hz)\n",
    "\tGPI = PoissonGroup(100, rates=rate*Hz)\n",
    "\n",
    "\tSE = Synapses(GPE, G, 'w : 1', on_pre='gE += w')\n",
    "\tSI = Synapses(GPI, G, 'w : 1', on_pre='gI += w')\n",
    "\tSE.connect()\n",
    "\tSI.connect()\n",
    "\n",
    "\tG.v = EL\n",
    "\tSE.w = 0.5\n",
    "\tSI.w = 10.\n",
    "\n",
    "\tG.tauE = tauE_value*ms\n",
    "\t\n",
    "\trun(5000*ms)\n",
    "\n",
    "\tM = StateMonitor(G, 'v', record=True)\n",
    "\n",
    "\trun(20000*ms)\n",
    "\tdic_V_evol[tauE_value] = M.v[0]/mV\n",
    "\n",
    "\n"
   ]
  },
  {
   "cell_type": "code",
   "execution_count": 9,
   "metadata": {},
   "outputs": [],
   "source": [
    "V_data_path = \"../../Data/V_data/\"\n",
    "pd.DataFrame(dic_V_evol).to_csv(f\"{V_data_path}V_distr_wI10.dat\")"
   ]
  },
  {
   "cell_type": "code",
   "execution_count": 10,
   "metadata": {},
   "outputs": [
    {
     "name": "stdout",
     "output_type": "stream",
     "text": [
      "1 20 70 "
     ]
    }
   ],
   "source": [
    "n_points = 200\n",
    "n_samples = 1\n",
    "vec_tauE = [1, 20, 70]\n",
    "\n",
    "vec_tauE = np.array(vec_tauE)\n",
    "\n",
    "EL = -60*mV\n",
    "EE = 0*mV\n",
    "EI = -80*mV\n",
    "alpha = 1\n",
    "tauN = 100*ms\n",
    "tauI = 10*ms\n",
    "tauL = 20*ms\n",
    "vt = -50*mV\n",
    "\n",
    "eqs = '''\n",
    "dv/dt = ((EL - v) + gE*(EE - v) + gI*(EI - v))/tauL : volt (unless refractory)\n",
    "dgE/dt = -gE/tauE : 1\n",
    "dgI/dt = -gI/tauI : 1\n",
    "tauE : second\n",
    "'''\n",
    "\n",
    "rate = 5\n",
    "dic_V_evol = {}\n",
    "\n",
    "for tauE_value in vec_tauE:\n",
    "\tstart_scope()\n",
    "\tdefaultclock.dt = 0.001*ms\n",
    "\tprint(tauE_value, end=' ')\n",
    "\tG = NeuronGroup(1, eqs, threshold='v>vt', reset='v=EL', refractory=2*ms, method='rk4')\n",
    "\tGPE = PoissonGroup(400, rates=rate*Hz)\n",
    "\tGPI = PoissonGroup(100, rates=rate*Hz)\n",
    "\n",
    "\tSE = Synapses(GPE, G, 'w : 1', on_pre='gE += w')\n",
    "\tSI = Synapses(GPI, G, 'w : 1', on_pre='gI += w')\n",
    "\tSE.connect()\n",
    "\tSI.connect()\n",
    "\n",
    "\tG.v = EL\n",
    "\tSE.w = 0.1\n",
    "\tSI.w = 0.4\n",
    "\n",
    "\tG.tauE = tauE_value*ms\n",
    "\t\n",
    "\trun(5000*ms)\n",
    "\n",
    "\tM = StateMonitor(G, 'v', record=True)\n",
    "\n",
    "\trun(20000*ms)\n",
    "\tdic_V_evol[tauE_value] = M.v[0]/mV"
   ]
  },
  {
   "cell_type": "code",
   "execution_count": null,
   "metadata": {},
   "outputs": [],
   "source": [
    "V_data_path = \"../../Data/V_data/\"\n",
    "pd.DataFrame(dic_V_evol).to_csv(f\"{V_data_path}V_distr.dat\")"
   ]
  }
 ],
 "metadata": {
  "interpreter": {
   "hash": "98c6dd40333d5354a17017e1bca71ec871e410bcd8a22f3cc0eb808b34c46cd4"
  },
  "kernelspec": {
   "display_name": "Python 3.10.4 ('worklab')",
   "language": "python",
   "name": "python3"
  },
  "language_info": {
   "codemirror_mode": {
    "name": "ipython",
    "version": 3
   },
   "file_extension": ".py",
   "mimetype": "text/x-python",
   "name": "python",
   "nbconvert_exporter": "python",
   "pygments_lexer": "ipython3",
   "version": "3.10.4"
  },
  "orig_nbformat": 4
 },
 "nbformat": 4,
 "nbformat_minor": 2
}
