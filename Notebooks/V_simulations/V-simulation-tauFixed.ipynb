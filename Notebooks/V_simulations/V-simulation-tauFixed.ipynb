{
 "cells": [
  {
   "cell_type": "code",
   "execution_count": 1,
   "metadata": {},
   "outputs": [],
   "source": [
    "%matplotlib inline\n",
    "import matplotlib.pyplot as plt\n",
    "from brian2 import *\n",
    "from brian2tools import *\n",
    "import numpy as np\n",
    "import pandas as pd\n",
    "\n",
    "\n",
    "# Customize matplotlib\n",
    "matplotlib.rcParams.update(\n",
    "    {\n",
    "        'text.usetex': False,\n",
    "        'font.family': 'stixgeneral',\n",
    "        'mathtext.fontset': 'stix',\n",
    "        'font.size': 22,\n",
    "        'ytick.color' : 'black',\n",
    "        \"xtick.color\" : 'black',\n",
    "        'axes.labelcolor' : 'black',\n",
    "        'axes.edgecolor' : 'black'\n",
    "\t}\n",
    ")"
   ]
  },
  {
   "cell_type": "code",
   "execution_count": 7,
   "metadata": {},
   "outputs": [
    {
     "name": "stdout",
     "output_type": "stream",
     "text": [
      "5\t0.0 0.01 0.02 0.03 0.04 0.05 0.06 0.07 0.08 0.09 0.1 0.11 0.12 0.13 0.14 0.15 0.16 0.17 0.18 0.19 0.2 0.21 0.22 0.23 0.24 0.25 0.26 0.27 0.28 0.29 0.3 0.31 0.32 0.33 0.34 0.35 0.36 0.37 0.38 0.39 0.4 0.41 0.42 0.43 0.44 0.45 0.46 0.47 0.48 0.49 0.5 0.51 0.52 0.53 0.54 0.55 0.56 0.57 0.58 0.59 0.6 0.61 0.62 0.63 0.64 0.65 0.66 0.67 0.68 0.69 0.7 0.71 0.72 0.73 0.74 0.75 0.76 0.77 0.78 0.79 0.8 0.81 0.82 0.83 0.84 0.85 0.86 0.87 0.88 0.89 0.9 0.91 0.92 0.93 0.94 0.95 0.96 0.97 0.98 0.99 \n",
      "10\t0.0 0.01 0.02 0.03 0.04 0.05 0.06 0.07 0.08 0.09 0.1 0.11 0.12 0.13 0.14 0.15 0.16 0.17 0.18 0.19 0.2 0.21 0.22 0.23 0.24 0.25 0.26 0.27 0.28 0.29 0.3 0.31 0.32 0.33 0.34 0.35 0.36 0.37 0.38 0.39 0.4 0.41 0.42 0.43 0.44 0.45 0.46 0.47 0.48 0.49 0.5 0.51 0.52 0.53 0.54 0.55 0.56 0.57 0.58 0.59 0.6 0.61 0.62 0.63 0.64 0.65 0.66 0.67 0.68 0.69 0.7 0.71 0.72 0.73 0.74 0.75 0.76 0.77 0.78 0.79 0.8 0.81 0.82 0.83 0.84 0.85 0.86 0.87 0.88 0.89 0.9 0.91 0.92 0.93 0.94 0.95 0.96 0.97 0.98 0.99 \n",
      "20\t0.0 0.01 0.02 0.03 0.04 0.05 0.06 0.07 0.08 0.09 0.1 0.11 0.12 0.13 0.14 0.15 0.16 0.17 0.18 0.19 0.2 0.21 0.22 0.23 0.24 0.25 0.26 0.27 0.28 0.29 0.3 0.31 0.32 0.33 0.34 0.35 0.36 0.37 0.38 0.39 0.4 0.41 0.42 0.43 0.44 0.45 0.46 0.47 0.48 0.49 0.5 0.51 0.52 0.53 0.54 0.55 0.56 0.57 0.58 0.59 0.6 0.61 0.62 0.63 0.64 0.65 0.66 0.67 0.68 0.69 0.7 0.71 0.72 0.73 0.74 0.75 0.76 0.77 0.78 0.79 0.8 0.81 0.82 0.83 0.84 0.85 0.86 0.87 0.88 0.89 0.9 0.91 0.92 0.93 0.94 0.95 0.96 0.97 0.98 0.99 \n",
      "50\t0.0 0.01 0.02 0.03 0.04 0.05 0.06 0.07 0.08 0.09 0.1 0.11 0.12 0.13 0.14 0.15 0.16 0.17 0.18 0.19 0.2 0.21 0.22 0.23 0.24 0.25 0.26 0.27 0.28 0.29 0.3 0.31 0.32 0.33 0.34 0.35 0.36 0.37 0.38 0.39 0.4 0.41 0.42 0.43 0.44 0.45 0.46 0.47 0.48 0.49 0.5 0.51 0.52 0.53 0.54 0.55 0.56 0.57 0.58 0.59 0.6 0.61 0.62 0.63 0.64 0.65 0.66 0.67 0.68 0.69 0.7 0.71 0.72 0.73 0.74 0.75 0.76 0.77 0.78 0.79 0.8 0.81 0.82 0.83 0.84 0.85 0.86 0.87 0.88 0.89 0.9 0.91 0.92 0.93 0.94 0.95 0.96 0.97 0.98 0.99 \n",
      "100\t0.0 0.01 0.02 0.03 0.04 0.05 0.06 0.07 0.08 0.09 0.1 0.11 0.12 0.13 0.14 0.15 0.16 0.17 0.18 0.19 0.2 0.21 0.22 0.23 0.24 0.25 0.26 0.27 0.28 0.29 0.3 0.31 0.32 0.33 0.34 0.35 0.36 0.37 0.38 0.39 0.4 0.41 0.42 0.43 0.44 0.45 0.46 0.47 0.48 0.49 0.5 0.51 0.52 0.53 0.54 0.55 0.56 0.57 0.58 0.59 0.6 0.61 0.62 0.63 0.64 0.65 0.66 0.67 0.68 0.69 0.7 0.71 0.72 0.73 0.74 0.75 0.76 0.77 0.78 0.79 0.8 0.81 0.82 0.83 0.84 0.85 0.86 0.87 0.88 0.89 0.9 0.91 0.92 0.93 0.94 0.95 0.96 0.97 0.98 0.99 \n"
     ]
    }
   ],
   "source": [
    "n_points = 100\n",
    "n_samples = 1\n",
    "vec_nu = []\n",
    "for nu_value in np.linspace(0.1, 100, n_points):\n",
    "\tfor n in range(n_samples):\n",
    "\t\tvec_nu.append(nu_value)\n",
    "\n",
    "vec_nu = np.array(vec_nu)\n",
    "\n",
    "EL = -60*mV\n",
    "EE = 0*mV\n",
    "EI = -80*mV\n",
    "alpha = 1\n",
    "tauN = 100*ms\n",
    "tauI = 10*ms\n",
    "tauL = 20*ms\n",
    "\n",
    "eqs = '''\n",
    "dv/dt = ((EL - v) + gA*(EE - v) + gI*(EI - v))/tauL : volt\n",
    "dgA/dt = -gA/tauA : 1\n",
    "dgI/dt = -gI/tauI : 1\n",
    "tauA : second\n",
    "'''\n",
    "\n",
    "tauA_list = [5, 10, 20, 50, 100]\n",
    "mean_V_ta = {'nu':vec_nu, 5:np.zeros(n_points*n_samples), 10:np.zeros(n_points*n_samples), 20:np.zeros(n_points*n_samples), 50:np.zeros(n_points*n_samples), 100:np.zeros(n_points*n_samples)}\n",
    "var_V_ta = {'nu':vec_nu, 5:np.zeros(n_points*n_samples), 10:np.zeros(n_points*n_samples), 20:np.zeros(n_points*n_samples), 50:np.zeros(n_points*n_samples), 100:np.zeros(n_points*n_samples)}\n",
    "\n",
    "for tauA_value in tauA_list:\n",
    "\tprint(tauA_value, end='\\t')\n",
    "\tfor i, nu_value in enumerate(vec_nu):\n",
    "\t\tstart_scope()\n",
    "\t\tprint(i/size(vec_nu), end=' ')\n",
    "\t\tG = NeuronGroup(1, eqs, method='rk4')\n",
    "\t\tGPE = PoissonGroup(400, rates=nu_value*Hz)\n",
    "\t\tGPI = PoissonGroup(100, rates=nu_value*Hz)\n",
    "\n",
    "\t\tSE = Synapses(GPE, G, 'w : 1', on_pre='gA += w')\n",
    "\t\tSI = Synapses(GPI, G, 'w : 1', on_pre='gI += w')\n",
    "\t\tSE.connect()\n",
    "\t\tSI.connect()\n",
    "\n",
    "\t\tG.v = EL\n",
    "\t\tSE.w = 0.1\n",
    "\t\tSI.w = 0.4\n",
    "\n",
    "\t\tG.tauA = tauA_value*ms\n",
    "\n",
    "\t\trun(5000*ms)\n",
    "\n",
    "\t\tM = StateMonitor(G, 'v', record=True)\n",
    "\n",
    "\t\trun(20000*ms)\n",
    "\t\tmean_V_ta[tauA_value][i] = np.mean(M.v/mV)\n",
    "\t\tvar_V_ta[tauA_value][i] = np.var(M.v/mV)\n",
    "\n",
    "\tprint()"
   ]
  },
  {
   "cell_type": "code",
   "execution_count": 25,
   "metadata": {},
   "outputs": [],
   "source": [
    "# Convert to pandas DataFrame\n",
    "df_mean_V_ta = pd.DataFrame.from_dict(mean_V_ta)\n",
    "df_var_V_ta = pd.DataFrame.from_dict(var_V_ta)\n",
    "\n",
    "\n",
    "# Save Dataframe do csv file\n",
    "df_mean_V_ta.to_csv('mean_V_tauFixed.dat')\n",
    "df_var_V_ta.to_csv('var_V_tauFixed.dat')\n"
   ]
  },
  {
   "cell_type": "code",
   "execution_count": 21,
   "metadata": {},
   "outputs": [
    {
     "data": {
      "text/plain": [
       "2500"
      ]
     },
     "execution_count": 21,
     "metadata": {},
     "output_type": "execute_result"
    }
   ],
   "source": [
    "mean_V_ta['tauA'].size"
   ]
  }
 ],
 "metadata": {
  "interpreter": {
   "hash": "815ffe0c3f450b1929060029d8bbc4bb978e145d9c20d51b98b455a88b55799b"
  },
  "kernelspec": {
   "display_name": "Python 3.9.2 64-bit ('worklab': conda)",
   "language": "python",
   "name": "python3"
  },
  "language_info": {
   "codemirror_mode": {
    "name": "ipython",
    "version": 3
   },
   "file_extension": ".py",
   "mimetype": "text/x-python",
   "name": "python",
   "nbconvert_exporter": "python",
   "pygments_lexer": "ipython3",
   "version": "3.9.2"
  },
  "orig_nbformat": 4
 },
 "nbformat": 4,
 "nbformat_minor": 2
}
