{
 "cells": [
  {
   "cell_type": "code",
   "execution_count": 1,
   "metadata": {},
   "outputs": [],
   "source": [
    "%matplotlib inline\n",
    "import matplotlib.pyplot as plt\n",
    "from brian2 import *\n",
    "from brian2tools import *\n",
    "import numpy as np\n",
    "import pandas as pd\n",
    "\n",
    "\n",
    "# Customize matplotlib\n",
    "matplotlib.rcParams.update(\n",
    "    {\n",
    "        'text.usetex': False,\n",
    "        'font.family': 'stixgeneral',\n",
    "        'mathtext.fontset': 'stix',\n",
    "        'font.size': 22,\n",
    "        'ytick.color' : 'black',\n",
    "        \"xtick.color\" : 'black',\n",
    "        'axes.labelcolor' : 'black',\n",
    "        'axes.edgecolor' : 'black'\n",
    "\t}\n",
    ")"
   ]
  },
  {
   "cell_type": "code",
   "execution_count": null,
   "metadata": {},
   "outputs": [],
   "source": [
    "n_points = 100\n",
    "n_samples = 2\n",
    "vec_alpha = np.random.uniform(0, 1, n_points*n_samples)\n",
    "\n",
    "EL = -60*mV\n",
    "EE = 0*mV\n",
    "EI = -80*mV\n",
    "tauA = 5*ms\n",
    "tauN = 100*ms\n",
    "tauI = 10*ms\n",
    "tauL = 20*ms\n",
    "rate = 5\n",
    "\n",
    "eqs = '''\n",
    "dv/dt = ((EL - v) + ((1 - alpha)*gA + alpha*gN)*(EE - v) + gI*(EI - v))/tauL : volt\n",
    "dgA/dt = -gA/tauA : 1\n",
    "dgN/dt = -gN/tauN : 1\n",
    "dgI/dt = -gI/tauI : 1\n",
    "alpha : 1\n",
    "'''\n",
    "\n",
    "wI_list = [0.1, 1, 10]\n",
    "wE = 0.5\n",
    "mean_V = {'alpha':vec_alpha, 0.1:np.zeros(n_points*n_samples), 1:np.zeros(n_points*n_samples), 10:np.zeros(n_points*n_samples)}\n",
    "var_V = {'alpha':vec_alpha, 0.1:np.zeros(n_points*n_samples), 1:np.zeros(n_points*n_samples), 10:np.zeros(n_points*n_samples)}\n",
    "\n",
    "for wI in wI_list:\n",
    "\tprint(wI, end='\\t')\n",
    "\tfor i, alpha_value in enumerate(vec_alpha):\n",
    "\t\tprint(i/size(vec_alpha), end=' ')\n",
    "\t\t\n",
    "\t\tstart_scope()\n",
    "\t\tdefaultclock.dt = 0.01*ms\n",
    "\t\t\n",
    "\t\tG = NeuronGroup(1, eqs, method='rk4')\n",
    "\t\tGPA = PoissonGroup(400, rates=rate*Hz)\n",
    "\t\tGPN = PoissonGroup(400, rates=rate*Hz)\n",
    "\t\tGPI = PoissonGroup(100, rates=rate*Hz)\n",
    "\n",
    "\t\tSA = Synapses(GPA, G, 'w : 1', on_pre='gA += w')\n",
    "\t\tSN = Synapses(GPN, G, 'w : 1', on_pre='gN += w')\n",
    "\t\tSI = Synapses(GPI, G, 'w : 1', on_pre='gI += w')\n",
    "\t\tSA.connect()\n",
    "\t\tSN.connect()\n",
    "\t\tSI.connect()\n",
    "\n",
    "\t\tG.v = EL\n",
    "\t\tSA.w = wE\n",
    "\t\tSN.w = wE\n",
    "\t\tSI.w = wI\n",
    "\n",
    "\t\tG.alpha = alpha_value\n",
    "\t\t\n",
    "\t\trun(5000*ms)\n",
    "\n",
    "\t\tM = StateMonitor(G, 'v', record=True)\n",
    "\n",
    "\t\trun(20000*ms)\n",
    "\n",
    "\t\tmean_V[wI][i] = np.mean(M.v[0]/mV)\n",
    "\t\tvar_V[wI][i] = np.var(M.v[0]/mV)\n",
    "\t\t"
   ]
  },
  {
   "cell_type": "code",
   "execution_count": null,
   "metadata": {},
   "outputs": [],
   "source": [
    "# Convert to pandas DataFrame\n",
    "df_mean_V = pd.DataFrame.from_dict(mean_V)\n",
    "df_var_V = pd.DataFrame.from_dict(var_V)\n",
    "\n",
    "# Save Dataframe do csv file\n",
    "df_mean_V.to_csv('mean_V_wI_interpolated.dat')\n",
    "df_var_V.to_csv('var_V_wI_interpolated.dat')"
   ]
  },
  {
   "cell_type": "code",
   "execution_count": 6,
   "metadata": {},
   "outputs": [
    {
     "data": {
      "text/plain": [
       "[<matplotlib.lines.Line2D at 0x7f045626d130>]"
      ]
     },
     "execution_count": 6,
     "metadata": {},
     "output_type": "execute_result"
    },
    {
     "data": {
      "image/png": "[encoded data removed]",
      "text/plain": [
       "<Figure size 432x288 with 1 Axes>"
      ]
     },
     "metadata": {
      "needs_background": "light"
     },
     "output_type": "display_data"
    }
   ],
   "source": [
    "# plt.ylim(0, 50)\n",
    "plt.plot(vec_tauA, var_V_ta[10], 'bo')\n",
    "# var_V_ta"
   ]
  }
 ],
 "metadata": {
  "interpreter": {
   "hash": "815ffe0c3f450b1929060029d8bbc4bb978e145d9c20d51b98b455a88b55799b"
  },
  "kernelspec": {
   "display_name": "Python 3.9.2 64-bit ('worklab': conda)",
   "language": "python",
   "name": "python3"
  },
  "language_info": {
   "codemirror_mode": {
    "name": "ipython",
    "version": 3
   },
   "file_extension": ".py",
   "mimetype": "text/x-python",
   "name": "python",
   "nbconvert_exporter": "python",
   "pygments_lexer": "ipython3",
   "version": "3.9.2"
  },
  "orig_nbformat": 4
 },
 "nbformat": 4,
 "nbformat_minor": 2
}
