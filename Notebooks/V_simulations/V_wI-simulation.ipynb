{
 "cells": [
  {
   "cell_type": "code",
   "execution_count": 2,
   "metadata": {},
   "outputs": [
    {
     "name": "stderr",
     "output_type": "stream",
     "text": [
      "INFO:numexpr.utils:NumExpr defaulting to 8 threads.\n"
     ]
    }
   ],
   "source": [
    "%matplotlib inline\n",
    "import matplotlib.pyplot as plt\n",
    "from brian2 import *\n",
    "from brian2tools import *\n",
    "import numpy as np\n",
    "import pandas as pd\n",
    "\n",
    "\n",
    "# Customize matplotlib\n",
    "matplotlib.rcParams.update(\n",
    "    {\n",
    "        'text.usetex': False,\n",
    "        'font.family': 'stixgeneral',\n",
    "        'mathtext.fontset': 'stix',\n",
    "        'font.size': 22,\n",
    "        'ytick.color' : 'black',\n",
    "        \"xtick.color\" : 'black',\n",
    "        'axes.labelcolor' : 'black',\n",
    "        'axes.edgecolor' : 'black'\n",
    "\t}\n",
    ")"
   ]
  },
  {
   "cell_type": "code",
   "execution_count": 2,
   "metadata": {},
   "outputs": [
    {
     "name": "stdout",
     "output_type": "stream",
     "text": [
      "0.1\t0.0 0.005 0.01 0.015 0.02 0.025 "
     ]
    },
    {
     "ename": "KeyboardInterrupt",
     "evalue": "",
     "output_type": "error",
     "traceback": [
      "\u001b[0;31m---------------------------------------------------------------------------\u001b[0m",
      "\u001b[0;31mKeyboardInterrupt\u001b[0m                         Traceback (most recent call last)",
      "\u001b[1;32m/home/marcelo/Worklab/MF_Model/Notebooks/V_simulations/V_wI-simulation.ipynb Cell 2'\u001b[0m in \u001b[0;36m<module>\u001b[0;34m\u001b[0m\n\u001b[1;32m     <a href='vscode-notebook-cell:/home/marcelo/Worklab/MF_Model/Notebooks/V_simulations/V_wI-simulation.ipynb#ch0000001?line=51'>52</a>\u001b[0m run(\u001b[39m5000\u001b[39m\u001b[39m*\u001b[39mms)\n\u001b[1;32m     <a href='vscode-notebook-cell:/home/marcelo/Worklab/MF_Model/Notebooks/V_simulations/V_wI-simulation.ipynb#ch0000001?line=53'>54</a>\u001b[0m M \u001b[39m=\u001b[39m StateMonitor(G, \u001b[39m'\u001b[39m\u001b[39mv\u001b[39m\u001b[39m'\u001b[39m, record\u001b[39m=\u001b[39m\u001b[39mTrue\u001b[39;00m)\n\u001b[0;32m---> <a href='vscode-notebook-cell:/home/marcelo/Worklab/MF_Model/Notebooks/V_simulations/V_wI-simulation.ipynb#ch0000001?line=55'>56</a>\u001b[0m run(\u001b[39m20000\u001b[39;49m\u001b[39m*\u001b[39;49mms)\n\u001b[1;32m     <a href='vscode-notebook-cell:/home/marcelo/Worklab/MF_Model/Notebooks/V_simulations/V_wI-simulation.ipynb#ch0000001?line=57'>58</a>\u001b[0m mean_V_ta[wI][i] \u001b[39m=\u001b[39m np\u001b[39m.\u001b[39mmean(M\u001b[39m.\u001b[39mv[\u001b[39m0\u001b[39m]\u001b[39m/\u001b[39mmV)\n\u001b[1;32m     <a href='vscode-notebook-cell:/home/marcelo/Worklab/MF_Model/Notebooks/V_simulations/V_wI-simulation.ipynb#ch0000001?line=58'>59</a>\u001b[0m var_V_ta[wI][i] \u001b[39m=\u001b[39m np\u001b[39m.\u001b[39mvar(M\u001b[39m.\u001b[39mv[\u001b[39m0\u001b[39m]\u001b[39m/\u001b[39mmV)\n",
      "File \u001b[0;32m~/anaconda3/envs/worklab/lib/python3.10/site-packages/brian2/units/fundamentalunits.py:2428\u001b[0m, in \u001b[0;36mcheck_units.<locals>.do_check_units.<locals>.new_f\u001b[0;34m(*args, **kwds)\u001b[0m\n\u001b[1;32m   <a href='file:///home/marcelo/anaconda3/envs/worklab/lib/python3.10/site-packages/brian2/units/fundamentalunits.py?line=2420'>2421</a>\u001b[0m             error_message \u001b[39m=\u001b[39m (\u001b[39mf\u001b[39m\u001b[39m\"\u001b[39m\u001b[39mFunction \u001b[39m\u001b[39m'\u001b[39m\u001b[39m{\u001b[39;00mf\u001b[39m.\u001b[39m\u001b[39m__name__\u001b[39m\u001b[39m}\u001b[39;00m\u001b[39m'\u001b[39m\u001b[39m \u001b[39m\u001b[39m\"\u001b[39m\n\u001b[1;32m   <a href='file:///home/marcelo/anaconda3/envs/worklab/lib/python3.10/site-packages/brian2/units/fundamentalunits.py?line=2421'>2422</a>\u001b[0m                              \u001b[39mf\u001b[39m\u001b[39m\"\u001b[39m\u001b[39mexpected a quantitity with unit \u001b[39m\u001b[39m\"\u001b[39m\n\u001b[1;32m   <a href='file:///home/marcelo/anaconda3/envs/worklab/lib/python3.10/site-packages/brian2/units/fundamentalunits.py?line=2422'>2423</a>\u001b[0m                              \u001b[39mf\u001b[39m\u001b[39m\"\u001b[39m\u001b[39m{\u001b[39;00munit\u001b[39m}\u001b[39;00m\u001b[39m for argument \u001b[39m\u001b[39m'\u001b[39m\u001b[39m{\u001b[39;00mk\u001b[39m}\u001b[39;00m\u001b[39m'\u001b[39m\u001b[39m but got \u001b[39m\u001b[39m\"\u001b[39m\n\u001b[1;32m   <a href='file:///home/marcelo/anaconda3/envs/worklab/lib/python3.10/site-packages/brian2/units/fundamentalunits.py?line=2423'>2424</a>\u001b[0m                              \u001b[39mf\u001b[39m\u001b[39m\"\u001b[39m\u001b[39m'\u001b[39m\u001b[39m{\u001b[39;00mvalue\u001b[39m}\u001b[39;00m\u001b[39m'\u001b[39m\u001b[39m\"\u001b[39m)\n\u001b[1;32m   <a href='file:///home/marcelo/anaconda3/envs/worklab/lib/python3.10/site-packages/brian2/units/fundamentalunits.py?line=2424'>2425</a>\u001b[0m             \u001b[39mraise\u001b[39;00m DimensionMismatchError(error_message,\n\u001b[1;32m   <a href='file:///home/marcelo/anaconda3/envs/worklab/lib/python3.10/site-packages/brian2/units/fundamentalunits.py?line=2425'>2426</a>\u001b[0m                                          get_dimensions(newkeyset[k]))\n\u001b[0;32m-> <a href='file:///home/marcelo/anaconda3/envs/worklab/lib/python3.10/site-packages/brian2/units/fundamentalunits.py?line=2427'>2428</a>\u001b[0m result \u001b[39m=\u001b[39m f(\u001b[39m*\u001b[39;49margs, \u001b[39m*\u001b[39;49m\u001b[39m*\u001b[39;49mkwds)\n\u001b[1;32m   <a href='file:///home/marcelo/anaconda3/envs/worklab/lib/python3.10/site-packages/brian2/units/fundamentalunits.py?line=2428'>2429</a>\u001b[0m \u001b[39mif\u001b[39;00m \u001b[39m'\u001b[39m\u001b[39mresult\u001b[39m\u001b[39m'\u001b[39m \u001b[39min\u001b[39;00m au:\n\u001b[1;32m   <a href='file:///home/marcelo/anaconda3/envs/worklab/lib/python3.10/site-packages/brian2/units/fundamentalunits.py?line=2429'>2430</a>\u001b[0m     \u001b[39mif\u001b[39;00m \u001b[39misinstance\u001b[39m(au[\u001b[39m'\u001b[39m\u001b[39mresult\u001b[39m\u001b[39m'\u001b[39m], Callable) \u001b[39mand\u001b[39;00m au[\u001b[39m'\u001b[39m\u001b[39mresult\u001b[39m\u001b[39m'\u001b[39m] \u001b[39m!=\u001b[39m \u001b[39mbool\u001b[39m:\n",
      "File \u001b[0;32m~/anaconda3/envs/worklab/lib/python3.10/site-packages/brian2/core/magic.py:373\u001b[0m, in \u001b[0;36mrun\u001b[0;34m(duration, report, report_period, namespace, profile, level)\u001b[0m\n\u001b[1;32m    <a href='file:///home/marcelo/anaconda3/envs/worklab/lib/python3.10/site-packages/brian2/core/magic.py?line=309'>310</a>\u001b[0m \u001b[39m@check_units\u001b[39m(duration\u001b[39m=\u001b[39msecond, report_period\u001b[39m=\u001b[39msecond)\n\u001b[1;32m    <a href='file:///home/marcelo/anaconda3/envs/worklab/lib/python3.10/site-packages/brian2/core/magic.py?line=310'>311</a>\u001b[0m \u001b[39mdef\u001b[39;00m \u001b[39mrun\u001b[39m(duration, report\u001b[39m=\u001b[39m\u001b[39mNone\u001b[39;00m, report_period\u001b[39m=\u001b[39m\u001b[39m10\u001b[39m\u001b[39m*\u001b[39msecond, namespace\u001b[39m=\u001b[39m\u001b[39mNone\u001b[39;00m,\n\u001b[1;32m    <a href='file:///home/marcelo/anaconda3/envs/worklab/lib/python3.10/site-packages/brian2/core/magic.py?line=311'>312</a>\u001b[0m         profile\u001b[39m=\u001b[39m\u001b[39mNone\u001b[39;00m, level\u001b[39m=\u001b[39m\u001b[39m0\u001b[39m):\n\u001b[1;32m    <a href='file:///home/marcelo/anaconda3/envs/worklab/lib/python3.10/site-packages/brian2/core/magic.py?line=312'>313</a>\u001b[0m     \u001b[39m\"\"\"\u001b[39;00m\n\u001b[1;32m    <a href='file:///home/marcelo/anaconda3/envs/worklab/lib/python3.10/site-packages/brian2/core/magic.py?line=313'>314</a>\u001b[0m \u001b[39m    run(duration, report=None, report_period=10*second, namespace=None, level=0)\u001b[39;00m\n\u001b[1;32m    <a href='file:///home/marcelo/anaconda3/envs/worklab/lib/python3.10/site-packages/brian2/core/magic.py?line=314'>315</a>\u001b[0m \u001b[39m    \u001b[39;00m\n\u001b[0;32m   (...)\u001b[0m\n\u001b[1;32m    <a href='file:///home/marcelo/anaconda3/envs/worklab/lib/python3.10/site-packages/brian2/core/magic.py?line=370'>371</a>\u001b[0m \u001b[39m        intended use. See `MagicNetwork` for more details.\u001b[39;00m\n\u001b[1;32m    <a href='file:///home/marcelo/anaconda3/envs/worklab/lib/python3.10/site-packages/brian2/core/magic.py?line=371'>372</a>\u001b[0m \u001b[39m    \"\"\"\u001b[39;00m\n\u001b[0;32m--> <a href='file:///home/marcelo/anaconda3/envs/worklab/lib/python3.10/site-packages/brian2/core/magic.py?line=372'>373</a>\u001b[0m     \u001b[39mreturn\u001b[39;00m magic_network\u001b[39m.\u001b[39;49mrun(duration, report\u001b[39m=\u001b[39;49mreport, report_period\u001b[39m=\u001b[39;49mreport_period,\n\u001b[1;32m    <a href='file:///home/marcelo/anaconda3/envs/worklab/lib/python3.10/site-packages/brian2/core/magic.py?line=373'>374</a>\u001b[0m                              namespace\u001b[39m=\u001b[39;49mnamespace, profile\u001b[39m=\u001b[39;49mprofile, level\u001b[39m=\u001b[39;49m\u001b[39m2\u001b[39;49m\u001b[39m+\u001b[39;49mlevel)\n",
      "File \u001b[0;32m~/anaconda3/envs/worklab/lib/python3.10/site-packages/brian2/core/magic.py:230\u001b[0m, in \u001b[0;36mMagicNetwork.run\u001b[0;34m(self, duration, report, report_period, namespace, profile, level)\u001b[0m\n\u001b[1;32m    <a href='file:///home/marcelo/anaconda3/envs/worklab/lib/python3.10/site-packages/brian2/core/magic.py?line=226'>227</a>\u001b[0m \u001b[39mdef\u001b[39;00m \u001b[39mrun\u001b[39m(\u001b[39mself\u001b[39m, duration, report\u001b[39m=\u001b[39m\u001b[39mNone\u001b[39;00m, report_period\u001b[39m=\u001b[39m\u001b[39m10\u001b[39m\u001b[39m*\u001b[39msecond,\n\u001b[1;32m    <a href='file:///home/marcelo/anaconda3/envs/worklab/lib/python3.10/site-packages/brian2/core/magic.py?line=227'>228</a>\u001b[0m         namespace\u001b[39m=\u001b[39m\u001b[39mNone\u001b[39;00m, profile\u001b[39m=\u001b[39m\u001b[39mNone\u001b[39;00m, level\u001b[39m=\u001b[39m\u001b[39m0\u001b[39m):\n\u001b[1;32m    <a href='file:///home/marcelo/anaconda3/envs/worklab/lib/python3.10/site-packages/brian2/core/magic.py?line=228'>229</a>\u001b[0m     \u001b[39mself\u001b[39m\u001b[39m.\u001b[39m_update_magic_objects(level\u001b[39m=\u001b[39mlevel\u001b[39m+\u001b[39m\u001b[39m1\u001b[39m)\n\u001b[0;32m--> <a href='file:///home/marcelo/anaconda3/envs/worklab/lib/python3.10/site-packages/brian2/core/magic.py?line=229'>230</a>\u001b[0m     Network\u001b[39m.\u001b[39;49mrun(\u001b[39mself\u001b[39;49m, duration, report\u001b[39m=\u001b[39;49mreport, report_period\u001b[39m=\u001b[39;49mreport_period,\n\u001b[1;32m    <a href='file:///home/marcelo/anaconda3/envs/worklab/lib/python3.10/site-packages/brian2/core/magic.py?line=230'>231</a>\u001b[0m                 namespace\u001b[39m=\u001b[39;49mnamespace, profile\u001b[39m=\u001b[39;49mprofile, level\u001b[39m=\u001b[39;49mlevel\u001b[39m+\u001b[39;49m\u001b[39m1\u001b[39;49m)\n",
      "File \u001b[0;32m~/anaconda3/envs/worklab/lib/python3.10/site-packages/brian2/core/base.py:293\u001b[0m, in \u001b[0;36mdevice_override.<locals>.device_override_decorator.<locals>.device_override_decorated_function\u001b[0;34m(*args, **kwds)\u001b[0m\n\u001b[1;32m    <a href='file:///home/marcelo/anaconda3/envs/worklab/lib/python3.10/site-packages/brian2/core/base.py?line=290'>291</a>\u001b[0m     \u001b[39mreturn\u001b[39;00m \u001b[39mgetattr\u001b[39m(curdev, name)(\u001b[39m*\u001b[39margs, \u001b[39m*\u001b[39m\u001b[39m*\u001b[39mkwds)\n\u001b[1;32m    <a href='file:///home/marcelo/anaconda3/envs/worklab/lib/python3.10/site-packages/brian2/core/base.py?line=291'>292</a>\u001b[0m \u001b[39melse\u001b[39;00m:\n\u001b[0;32m--> <a href='file:///home/marcelo/anaconda3/envs/worklab/lib/python3.10/site-packages/brian2/core/base.py?line=292'>293</a>\u001b[0m     \u001b[39mreturn\u001b[39;00m func(\u001b[39m*\u001b[39;49margs, \u001b[39m*\u001b[39;49m\u001b[39m*\u001b[39;49mkwds)\n",
      "File \u001b[0;32m~/anaconda3/envs/worklab/lib/python3.10/site-packages/brian2/units/fundamentalunits.py:2428\u001b[0m, in \u001b[0;36mcheck_units.<locals>.do_check_units.<locals>.new_f\u001b[0;34m(*args, **kwds)\u001b[0m\n\u001b[1;32m   <a href='file:///home/marcelo/anaconda3/envs/worklab/lib/python3.10/site-packages/brian2/units/fundamentalunits.py?line=2420'>2421</a>\u001b[0m             error_message \u001b[39m=\u001b[39m (\u001b[39mf\u001b[39m\u001b[39m\"\u001b[39m\u001b[39mFunction \u001b[39m\u001b[39m'\u001b[39m\u001b[39m{\u001b[39;00mf\u001b[39m.\u001b[39m\u001b[39m__name__\u001b[39m\u001b[39m}\u001b[39;00m\u001b[39m'\u001b[39m\u001b[39m \u001b[39m\u001b[39m\"\u001b[39m\n\u001b[1;32m   <a href='file:///home/marcelo/anaconda3/envs/worklab/lib/python3.10/site-packages/brian2/units/fundamentalunits.py?line=2421'>2422</a>\u001b[0m                              \u001b[39mf\u001b[39m\u001b[39m\"\u001b[39m\u001b[39mexpected a quantitity with unit \u001b[39m\u001b[39m\"\u001b[39m\n\u001b[1;32m   <a href='file:///home/marcelo/anaconda3/envs/worklab/lib/python3.10/site-packages/brian2/units/fundamentalunits.py?line=2422'>2423</a>\u001b[0m                              \u001b[39mf\u001b[39m\u001b[39m\"\u001b[39m\u001b[39m{\u001b[39;00munit\u001b[39m}\u001b[39;00m\u001b[39m for argument \u001b[39m\u001b[39m'\u001b[39m\u001b[39m{\u001b[39;00mk\u001b[39m}\u001b[39;00m\u001b[39m'\u001b[39m\u001b[39m but got \u001b[39m\u001b[39m\"\u001b[39m\n\u001b[1;32m   <a href='file:///home/marcelo/anaconda3/envs/worklab/lib/python3.10/site-packages/brian2/units/fundamentalunits.py?line=2423'>2424</a>\u001b[0m                              \u001b[39mf\u001b[39m\u001b[39m\"\u001b[39m\u001b[39m'\u001b[39m\u001b[39m{\u001b[39;00mvalue\u001b[39m}\u001b[39;00m\u001b[39m'\u001b[39m\u001b[39m\"\u001b[39m)\n\u001b[1;32m   <a href='file:///home/marcelo/anaconda3/envs/worklab/lib/python3.10/site-packages/brian2/units/fundamentalunits.py?line=2424'>2425</a>\u001b[0m             \u001b[39mraise\u001b[39;00m DimensionMismatchError(error_message,\n\u001b[1;32m   <a href='file:///home/marcelo/anaconda3/envs/worklab/lib/python3.10/site-packages/brian2/units/fundamentalunits.py?line=2425'>2426</a>\u001b[0m                                          get_dimensions(newkeyset[k]))\n\u001b[0;32m-> <a href='file:///home/marcelo/anaconda3/envs/worklab/lib/python3.10/site-packages/brian2/units/fundamentalunits.py?line=2427'>2428</a>\u001b[0m result \u001b[39m=\u001b[39m f(\u001b[39m*\u001b[39;49margs, \u001b[39m*\u001b[39;49m\u001b[39m*\u001b[39;49mkwds)\n\u001b[1;32m   <a href='file:///home/marcelo/anaconda3/envs/worklab/lib/python3.10/site-packages/brian2/units/fundamentalunits.py?line=2428'>2429</a>\u001b[0m \u001b[39mif\u001b[39;00m \u001b[39m'\u001b[39m\u001b[39mresult\u001b[39m\u001b[39m'\u001b[39m \u001b[39min\u001b[39;00m au:\n\u001b[1;32m   <a href='file:///home/marcelo/anaconda3/envs/worklab/lib/python3.10/site-packages/brian2/units/fundamentalunits.py?line=2429'>2430</a>\u001b[0m     \u001b[39mif\u001b[39;00m \u001b[39misinstance\u001b[39m(au[\u001b[39m'\u001b[39m\u001b[39mresult\u001b[39m\u001b[39m'\u001b[39m], Callable) \u001b[39mand\u001b[39;00m au[\u001b[39m'\u001b[39m\u001b[39mresult\u001b[39m\u001b[39m'\u001b[39m] \u001b[39m!=\u001b[39m \u001b[39mbool\u001b[39m:\n",
      "File \u001b[0;32m~/anaconda3/envs/worklab/lib/python3.10/site-packages/brian2/core/network.py:1071\u001b[0m, in \u001b[0;36mNetwork.run\u001b[0;34m(self, duration, report, report_period, namespace, profile, level)\u001b[0m\n\u001b[1;32m   <a href='file:///home/marcelo/anaconda3/envs/worklab/lib/python3.10/site-packages/brian2/core/network.py?line=1068'>1069</a>\u001b[0m \u001b[39melse\u001b[39;00m:\n\u001b[1;32m   <a href='file:///home/marcelo/anaconda3/envs/worklab/lib/python3.10/site-packages/brian2/core/network.py?line=1069'>1070</a>\u001b[0m     \u001b[39mfor\u001b[39;00m obj \u001b[39min\u001b[39;00m active_objects:\n\u001b[0;32m-> <a href='file:///home/marcelo/anaconda3/envs/worklab/lib/python3.10/site-packages/brian2/core/network.py?line=1070'>1071</a>\u001b[0m         obj\u001b[39m.\u001b[39mrun()\n\u001b[1;32m   <a href='file:///home/marcelo/anaconda3/envs/worklab/lib/python3.10/site-packages/brian2/core/network.py?line=1072'>1073</a>\u001b[0m timestep[\u001b[39m0\u001b[39m] \u001b[39m+\u001b[39m\u001b[39m=\u001b[39m \u001b[39m1\u001b[39m\n\u001b[1;32m   <a href='file:///home/marcelo/anaconda3/envs/worklab/lib/python3.10/site-packages/brian2/core/network.py?line=1073'>1074</a>\u001b[0m t[\u001b[39m0\u001b[39m] \u001b[39m=\u001b[39m timestep[\u001b[39m0\u001b[39m] \u001b[39m*\u001b[39m dt[\u001b[39m0\u001b[39m]\n",
      "File \u001b[0;32m~/anaconda3/envs/worklab/lib/python3.10/site-packages/brian2/core/base.py:198\u001b[0m, in \u001b[0;36mBrianObject.run\u001b[0;34m(self)\u001b[0m\n\u001b[1;32m    <a href='file:///home/marcelo/anaconda3/envs/worklab/lib/python3.10/site-packages/brian2/core/base.py?line=195'>196</a>\u001b[0m \u001b[39mdef\u001b[39;00m \u001b[39mrun\u001b[39m(\u001b[39mself\u001b[39m):\n\u001b[1;32m    <a href='file:///home/marcelo/anaconda3/envs/worklab/lib/python3.10/site-packages/brian2/core/base.py?line=196'>197</a>\u001b[0m     \u001b[39mfor\u001b[39;00m codeobj \u001b[39min\u001b[39;00m \u001b[39mself\u001b[39m\u001b[39m.\u001b[39m_code_objects:\n\u001b[0;32m--> <a href='file:///home/marcelo/anaconda3/envs/worklab/lib/python3.10/site-packages/brian2/core/base.py?line=197'>198</a>\u001b[0m         codeobj()\n",
      "File \u001b[0;32m~/anaconda3/envs/worklab/lib/python3.10/site-packages/brian2/codegen/codeobject.py:106\u001b[0m, in \u001b[0;36mCodeObject.__call__\u001b[0;34m(self, **kwds)\u001b[0m\n\u001b[1;32m    <a href='file:///home/marcelo/anaconda3/envs/worklab/lib/python3.10/site-packages/brian2/codegen/codeobject.py?line=102'>103</a>\u001b[0m \u001b[39mself\u001b[39m\u001b[39m.\u001b[39mupdate_namespace()\n\u001b[1;32m    <a href='file:///home/marcelo/anaconda3/envs/worklab/lib/python3.10/site-packages/brian2/codegen/codeobject.py?line=103'>104</a>\u001b[0m \u001b[39mself\u001b[39m\u001b[39m.\u001b[39mnamespace\u001b[39m.\u001b[39mupdate(\u001b[39m*\u001b[39m\u001b[39m*\u001b[39mkwds)\n\u001b[0;32m--> <a href='file:///home/marcelo/anaconda3/envs/worklab/lib/python3.10/site-packages/brian2/codegen/codeobject.py?line=105'>106</a>\u001b[0m \u001b[39mreturn\u001b[39;00m \u001b[39mself\u001b[39;49m\u001b[39m.\u001b[39;49mrun()\n",
      "File \u001b[0;32m~/anaconda3/envs/worklab/lib/python3.10/site-packages/brian2/codegen/codeobject.py:134\u001b[0m, in \u001b[0;36mCodeObject.run\u001b[0;34m(self)\u001b[0m\n\u001b[1;32m    <a href='file:///home/marcelo/anaconda3/envs/worklab/lib/python3.10/site-packages/brian2/codegen/codeobject.py?line=123'>124</a>\u001b[0m \u001b[39mdef\u001b[39;00m \u001b[39mrun\u001b[39m(\u001b[39mself\u001b[39m):\n\u001b[1;32m    <a href='file:///home/marcelo/anaconda3/envs/worklab/lib/python3.10/site-packages/brian2/codegen/codeobject.py?line=124'>125</a>\u001b[0m     \u001b[39m\"\"\"\u001b[39;00m\n\u001b[1;32m    <a href='file:///home/marcelo/anaconda3/envs/worklab/lib/python3.10/site-packages/brian2/codegen/codeobject.py?line=125'>126</a>\u001b[0m \u001b[39m    Runs the main code in the namespace.\u001b[39;00m\n\u001b[1;32m    <a href='file:///home/marcelo/anaconda3/envs/worklab/lib/python3.10/site-packages/brian2/codegen/codeobject.py?line=126'>127</a>\u001b[0m \n\u001b[0;32m   (...)\u001b[0m\n\u001b[1;32m    <a href='file:///home/marcelo/anaconda3/envs/worklab/lib/python3.10/site-packages/brian2/codegen/codeobject.py?line=131'>132</a>\u001b[0m \u001b[39m        defined during the call of `CodeGenerator.code_object`.\u001b[39;00m\n\u001b[1;32m    <a href='file:///home/marcelo/anaconda3/envs/worklab/lib/python3.10/site-packages/brian2/codegen/codeobject.py?line=132'>133</a>\u001b[0m \u001b[39m    \"\"\"\u001b[39;00m\n\u001b[0;32m--> <a href='file:///home/marcelo/anaconda3/envs/worklab/lib/python3.10/site-packages/brian2/codegen/codeobject.py?line=133'>134</a>\u001b[0m     \u001b[39mreturn\u001b[39;00m \u001b[39mself\u001b[39;49m\u001b[39m.\u001b[39;49mrun_block(\u001b[39m'\u001b[39;49m\u001b[39mrun\u001b[39;49m\u001b[39m'\u001b[39;49m)\n",
      "File \u001b[0;32m~/anaconda3/envs/worklab/lib/python3.10/site-packages/brian2/codegen/runtime/cython_rt/cython_rt.py:157\u001b[0m, in \u001b[0;36mCythonCodeObject.run_block\u001b[0;34m(self, block)\u001b[0m\n\u001b[1;32m    <a href='file:///home/marcelo/anaconda3/envs/worklab/lib/python3.10/site-packages/brian2/codegen/runtime/cython_rt/cython_rt.py?line=154'>155</a>\u001b[0m \u001b[39mif\u001b[39;00m compiled_code:\n\u001b[1;32m    <a href='file:///home/marcelo/anaconda3/envs/worklab/lib/python3.10/site-packages/brian2/codegen/runtime/cython_rt/cython_rt.py?line=155'>156</a>\u001b[0m     \u001b[39mtry\u001b[39;00m:\n\u001b[0;32m--> <a href='file:///home/marcelo/anaconda3/envs/worklab/lib/python3.10/site-packages/brian2/codegen/runtime/cython_rt/cython_rt.py?line=156'>157</a>\u001b[0m         \u001b[39mreturn\u001b[39;00m compiled_code\u001b[39m.\u001b[39;49mmain(\u001b[39mself\u001b[39;49m\u001b[39m.\u001b[39;49mnamespace)\n\u001b[1;32m    <a href='file:///home/marcelo/anaconda3/envs/worklab/lib/python3.10/site-packages/brian2/codegen/runtime/cython_rt/cython_rt.py?line=157'>158</a>\u001b[0m     \u001b[39mexcept\u001b[39;00m \u001b[39mException\u001b[39;00m \u001b[39mas\u001b[39;00m exc:\n\u001b[1;32m    <a href='file:///home/marcelo/anaconda3/envs/worklab/lib/python3.10/site-packages/brian2/codegen/runtime/cython_rt/cython_rt.py?line=158'>159</a>\u001b[0m         message \u001b[39m=\u001b[39m (\u001b[39mf\u001b[39m\u001b[39m\"\u001b[39m\u001b[39mAn exception occured during the execution of the \u001b[39m\u001b[39m\"\u001b[39m\n\u001b[1;32m    <a href='file:///home/marcelo/anaconda3/envs/worklab/lib/python3.10/site-packages/brian2/codegen/runtime/cython_rt/cython_rt.py?line=159'>160</a>\u001b[0m                    \u001b[39mf\u001b[39m\u001b[39m\"\u001b[39m\u001b[39m'\u001b[39m\u001b[39m{\u001b[39;00mblock\u001b[39m}\u001b[39;00m\u001b[39m'\u001b[39m\u001b[39m block of code object \u001b[39m\u001b[39m'\u001b[39m\u001b[39m{\u001b[39;00m\u001b[39mself\u001b[39m\u001b[39m.\u001b[39mname\u001b[39m}\u001b[39;00m\u001b[39m'\u001b[39m\u001b[39m.\u001b[39m\u001b[39m\\n\u001b[39;00m\u001b[39m\"\u001b[39m)\n",
      "File \u001b[0;32m_cython_magic_32a3777a9544f278a88697dd893bbfad.pyx:65\u001b[0m, in \u001b[0;36m_cython_magic_32a3777a9544f278a88697dd893bbfad.main\u001b[0;34m()\u001b[0m\n",
      "File \u001b[0;32m~/anaconda3/envs/worklab/lib/python3.10/site-packages/brian2/synapses/synapses.py:393\u001b[0m, in \u001b[0;36mSynapticPathway.push_spikes\u001b[0;34m(self)\u001b[0m\n\u001b[1;32m    <a href='file:///home/marcelo/anaconda3/envs/worklab/lib/python3.10/site-packages/brian2/synapses/synapses.py?line=389'>390</a>\u001b[0m     \u001b[39m# Put the spike queue state back for future restore calls\u001b[39;00m\n\u001b[1;32m    <a href='file:///home/marcelo/anaconda3/envs/worklab/lib/python3.10/site-packages/brian2/synapses/synapses.py?line=390'>391</a>\u001b[0m     state[\u001b[39m'\u001b[39m\u001b[39m_spikequeue\u001b[39m\u001b[39m'\u001b[39m] \u001b[39m=\u001b[39m queue_state\n\u001b[0;32m--> <a href='file:///home/marcelo/anaconda3/envs/worklab/lib/python3.10/site-packages/brian2/synapses/synapses.py?line=392'>393</a>\u001b[0m \u001b[39mdef\u001b[39;00m \u001b[39mpush_spikes\u001b[39m(\u001b[39mself\u001b[39m):\n\u001b[1;32m    <a href='file:///home/marcelo/anaconda3/envs/worklab/lib/python3.10/site-packages/brian2/synapses/synapses.py?line=393'>394</a>\u001b[0m     \u001b[39m# Push new events (e.g. spikes) into the queue\u001b[39;00m\n\u001b[1;32m    <a href='file:///home/marcelo/anaconda3/envs/worklab/lib/python3.10/site-packages/brian2/synapses/synapses.py?line=394'>395</a>\u001b[0m     events \u001b[39m=\u001b[39m \u001b[39mself\u001b[39m\u001b[39m.\u001b[39meventspace[:\u001b[39mself\u001b[39m\u001b[39m.\u001b[39meventspace[\u001b[39mlen\u001b[39m(\u001b[39mself\u001b[39m\u001b[39m.\u001b[39meventspace)\u001b[39m-\u001b[39m\u001b[39m1\u001b[39m]]\n\u001b[1;32m    <a href='file:///home/marcelo/anaconda3/envs/worklab/lib/python3.10/site-packages/brian2/synapses/synapses.py?line=396'>397</a>\u001b[0m     \u001b[39mif\u001b[39;00m \u001b[39mlen\u001b[39m(events):\n",
      "\u001b[0;31mKeyboardInterrupt\u001b[0m: "
     ]
    }
   ],
   "source": [
    "n_points = 200\n",
    "n_samples = 1\n",
    "vec_tauA = []\n",
    "for tauA_value in np.linspace(0.1, 100, n_points):\n",
    "\tfor n in range(n_samples):\n",
    "\t\tvec_tauA.append(tauA_value)\n",
    "\n",
    "vec_tauA = np.array(vec_tauA)\n",
    "\n",
    "EL = -60*mV\n",
    "EE = 0*mV\n",
    "EI = -80*mV\n",
    "alpha = 1\n",
    "tauN = 100*ms\n",
    "tauI = 10*ms\n",
    "tauL = 20*ms\n",
    "rate = 5\n",
    "\n",
    "eqs = '''\n",
    "dv/dt = ((EL - v) + gA*(EE - v) + gI*(EI - v))/tauL : volt\n",
    "dgA/dt = -gA/tauA : 1\n",
    "dgI/dt = -gI/tauI : 1\n",
    "tauA : second\n",
    "'''\n",
    "\n",
    "wE = 0.5\n",
    "wI_list = [0.1, 1.0, 10]\n",
    "mean_V_ta = {'tauA':vec_tauA, 0.1:np.zeros(n_points*n_samples), 1:np.zeros(n_points*n_samples), 10:np.zeros(n_points*n_samples)}\n",
    "var_V_ta = {'tauA':vec_tauA, 0.1:np.zeros(n_points*n_samples), 1:np.zeros(n_points*n_samples), 10:np.zeros(n_points*n_samples)}\n",
    "\n",
    "for wI in wI_list:\n",
    "\tprint(wI, end='\\t')\n",
    "\tfor i, tauA_value in enumerate(vec_tauA):\n",
    "\t\tstart_scope()\n",
    "\t\tdefaultclock.dt = 0.1*ms\n",
    "\t\tprint(i/size(vec_tauA), end=' ')\n",
    "\t\tG = NeuronGroup(1, eqs, method='rk4')\n",
    "\t\tGPE = PoissonGroup(400, rates=rate*Hz)\n",
    "\t\tGPI = PoissonGroup(100, rates=rate*Hz)\n",
    "\n",
    "\t\tSE = Synapses(GPE, G, 'w : 1', on_pre='gA += w')\n",
    "\t\tSI = Synapses(GPI, G, 'w : 1', on_pre='gI += w')\n",
    "\t\tSE.connect()\n",
    "\t\tSI.connect()\n",
    "\n",
    "\t\tG.v = EL\n",
    "\t\tSE.w = wE\n",
    "\t\tSI.w = wI\n",
    "\n",
    "\t\tG.tauA = tauA_value*ms\n",
    "\n",
    "\t\trun(5000*ms)\n",
    "\n",
    "\t\tM = StateMonitor(G, 'v', record=True)\n",
    "\t\t\n",
    "\t\trun(20000*ms)\n",
    "\n",
    "\t\tmean_V_ta[wI][i] = np.mean(M.v[0]/mV)\n",
    "\t\tvar_V_ta[wI][i] = np.var(M.v[0]/mV)\n",
    "\n",
    "\n",
    "\tprint()"
   ]
  },
  {
   "cell_type": "code",
   "execution_count": 4,
   "metadata": {},
   "outputs": [],
   "source": [
    "data_directory_path = \"../../Data/V_data/\"\n",
    "\n",
    "# Convert to pandas DataFrame\n",
    "df_mean_V_ta = pd.DataFrame.from_dict(mean_V_ta)\n",
    "df_var_V_ta = pd.DataFrame.from_dict(var_V_ta)\n",
    "\n",
    "\n",
    "# Save Dataframe do csv file\n",
    "df_mean_V_ta.to_csv(f\"{data_directory_path}mean_V_ta_wI.dat\")\n",
    "df_var_V_ta.to_csv(f\"{data_directory_path}var_V_ta_wI.dat\")"
   ]
  },
  {
   "cell_type": "code",
   "execution_count": 3,
   "metadata": {},
   "outputs": [
    {
     "name": "stdout",
     "output_type": "stream",
     "text": [
      "0.1\t0.0 0.03225806451612903 0.06451612903225806 0.0967741935483871 0.12903225806451613 0.16129032258064516 0.1935483870967742 0.22580645161290322 0.25806451612903225 0.2903225806451613 0.3225806451612903 0.3548387096774194 0.3870967741935484 0.41935483870967744 0.45161290322580644 0.4838709677419355 0.5161290322580645 0.5483870967741935 0.5806451612903226 0.6129032258064516 0.6451612903225806 0.6774193548387096 0.7096774193548387 0.7419354838709677 0.7741935483870968 0.8064516129032258 0.8387096774193549 0.8709677419354839 0.9032258064516129 0.9354838709677419 0.967741935483871 \n",
      "1.0\t0.0 0.03225806451612903 0.06451612903225806 0.0967741935483871 0.12903225806451613 0.16129032258064516 0.1935483870967742 0.22580645161290322 0.25806451612903225 0.2903225806451613 0.3225806451612903 0.3548387096774194 0.3870967741935484 0.41935483870967744 0.45161290322580644 0.4838709677419355 0.5161290322580645 0.5483870967741935 0.5806451612903226 0.6129032258064516 0.6451612903225806 0.6774193548387096 0.7096774193548387 0.7419354838709677 0.7741935483870968 0.8064516129032258 0.8387096774193549 0.8709677419354839 0.9032258064516129 0.9354838709677419 0.967741935483871 \n",
      "10\t0.0 0.03225806451612903 0.06451612903225806 0.0967741935483871 0.12903225806451613 0.16129032258064516 0.1935483870967742 0.22580645161290322 0.25806451612903225 0.2903225806451613 0.3225806451612903 0.3548387096774194 0.3870967741935484 0.41935483870967744 0.45161290322580644 0.4838709677419355 0.5161290322580645 0.5483870967741935 0.5806451612903226 0.6129032258064516 0.6451612903225806 0.6774193548387096 0.7096774193548387 0.7419354838709677 0.7741935483870968 0.8064516129032258 0.8387096774193549 0.8709677419354839 0.9032258064516129 0.9354838709677419 0.967741935483871 \n"
     ]
    }
   ],
   "source": [
    "n_points = 31\n",
    "n_samples = 1\n",
    "vec_tauA = []\n",
    "for tauA_value in np.linspace(0.1, 100, n_points):\n",
    "\tfor n in range(n_samples):\n",
    "\t\tvec_tauA.append(tauA_value)\n",
    "\n",
    "vec_tauA = np.array(vec_tauA)\n",
    "\n",
    "EL = -60*mV\n",
    "EE = 0*mV\n",
    "EI = -80*mV\n",
    "alpha = 1\n",
    "tauN = 100*ms\n",
    "tauI = 10*ms\n",
    "tauL = 20*ms\n",
    "vt = -50*mV\n",
    "rate = 5\n",
    "\n",
    "eqs = '''\n",
    "dv/dt = ((EL - v) + gA*(EE - v) + gI*(EI - v))/tauL : volt (unless refractory)\n",
    "dgA/dt = -gA/tauA : 1\n",
    "dgI/dt = -gI/tauI : 1\n",
    "tauA : second\n",
    "'''\n",
    "\n",
    "wE = 0.5\n",
    "wI_list = [0.1, 1.0, 10]\n",
    "mean_V_ta = {'tauA':vec_tauA, 0.1:np.zeros(n_points*n_samples), 1:np.zeros(n_points*n_samples), 10:np.zeros(n_points*n_samples)}\n",
    "var_V_ta = {'tauA':vec_tauA, 0.1:np.zeros(n_points*n_samples), 1:np.zeros(n_points*n_samples), 10:np.zeros(n_points*n_samples)}\n",
    "\n",
    "for wI in wI_list:\n",
    "\tprint(wI, end='\\t')\n",
    "\tfor i, tauA_value in enumerate(vec_tauA):\n",
    "\t\tstart_scope()\n",
    "\t\tdefaultclock.dt = 0.1*ms\n",
    "\t\tprint(i/size(vec_tauA), end=' ')\n",
    "\t\tG = NeuronGroup(1, eqs, threshold='v>vt', reset='v=EL', refractory=2*ms, method='rk4')\n",
    "\t\tGPE = PoissonGroup(400, rates=rate*Hz)\n",
    "\t\tGPI = PoissonGroup(100, rates=rate*Hz)\n",
    "\n",
    "\t\tSE = Synapses(GPE, G, 'w : 1', on_pre='gA += w')\n",
    "\t\tSI = Synapses(GPI, G, 'w : 1', on_pre='gI += w')\n",
    "\t\tSE.connect()\n",
    "\t\tSI.connect()\n",
    "\n",
    "\t\tG.v = EL\n",
    "\t\tSE.w = wE\n",
    "\t\tSI.w = wI\n",
    "\n",
    "\t\tG.tauA = tauA_value*ms\n",
    "\n",
    "\t\trun(5000*ms)\n",
    "\n",
    "\t\tM = StateMonitor(G, 'v', record=True)\n",
    "\t\t# spkM = SpikeMonitor(G)\n",
    "\t\t\n",
    "\t\trun(20000*ms)\n",
    "\n",
    "\t\tmean_V_ta[wI][i] = np.mean(M.v[0]/mV)\n",
    "\t\tvar_V_ta[wI][i] = np.var(M.v[0]/mV)\n",
    "\n",
    "\n",
    "\tprint()"
   ]
  },
  {
   "cell_type": "code",
   "execution_count": 4,
   "metadata": {},
   "outputs": [],
   "source": [
    "data_directory_path = \"../../Data/V_data/\"\n",
    "\n",
    "# Convert to pandas DataFrame\n",
    "df_mean_V_ta = pd.DataFrame.from_dict(mean_V_ta)\n",
    "df_var_V_ta = pd.DataFrame.from_dict(var_V_ta)\n",
    "\n",
    "\n",
    "# Save Dataframe do csv file\n",
    "df_mean_V_ta.to_csv(f\"{data_directory_path}mean_V_ta_wI_th.dat\")\n",
    "df_var_V_ta.to_csv(f\"{data_directory_path}var_V_ta_wI_th.dat\")"
   ]
  },
  {
   "cell_type": "code",
   "execution_count": 8,
   "metadata": {},
   "outputs": [
    {
     "data": {
      "text/plain": [
       "[<matplotlib.lines.Line2D at 0x7f6300c45270>]"
      ]
     },
     "execution_count": 8,
     "metadata": {},
     "output_type": "execute_result"
    },
    {
     "data": {
      "image/png": "[encoded data removed]",
      "text/plain": [
       "<Figure size 432x288 with 1 Axes>"
      ]
     },
     "metadata": {
      "needs_background": "light"
     },
     "output_type": "display_data"
    }
   ],
   "source": [
    "plt.plot(df_var_V_ta['tauA'], df_var_V_ta[10])"
   ]
  }
 ],
 "metadata": {
  "kernelspec": {
   "display_name": "Python 3.10.4 ('worklab')",
   "language": "python",
   "name": "python3"
  },
  "language_info": {
   "codemirror_mode": {
    "name": "ipython",
    "version": 3
   },
   "file_extension": ".py",
   "mimetype": "text/x-python",
   "name": "python",
   "nbconvert_exporter": "python",
   "pygments_lexer": "ipython3",
   "version": "3.10.4"
  },
  "orig_nbformat": 4,
  "vscode": {
   "interpreter": {
    "hash": "98c6dd40333d5354a17017e1bca71ec871e410bcd8a22f3cc0eb808b34c46cd4"
   }
  }
 },
 "nbformat": 4,
 "nbformat_minor": 2
}
