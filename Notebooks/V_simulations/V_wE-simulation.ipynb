{
 "cells": [
  {
   "cell_type": "code",
   "execution_count": 1,
   "metadata": {},
   "outputs": [
    {
     "name": "stderr",
     "output_type": "stream",
     "text": [
      "INFO:numexpr.utils:NumExpr defaulting to 8 threads.\n"
     ]
    }
   ],
   "source": [
    "%matplotlib inline\n",
    "import matplotlib.pyplot as plt\n",
    "from brian2 import *\n",
    "from brian2tools import *\n",
    "import numpy as np\n",
    "import pandas as pd\n",
    "\n",
    "\n",
    "# Customize matplotlib\n",
    "matplotlib.rcParams.update(\n",
    "    {\n",
    "        'text.usetex': False,\n",
    "        'font.family': 'stixgeneral',\n",
    "        'mathtext.fontset': 'stix',\n",
    "        'font.size': 22,\n",
    "        'ytick.color' : 'black',\n",
    "        \"xtick.color\" : 'black',\n",
    "        'axes.labelcolor' : 'black',\n",
    "        'axes.edgecolor' : 'black'\n",
    "\t}\n",
    ")"
   ]
  },
  {
   "cell_type": "code",
   "execution_count": 3,
   "metadata": {},
   "outputs": [
    {
     "name": "stdout",
     "output_type": "stream",
     "text": [
      "10\t0.0 0.005 0.01 0.015 0.02 0.025 0.03 0.035 0.04 0.045 0.05 0.055 0.06 0.065 0.07 0.075 0.08 0.085 0.09 0.095 0.1 0.105 0.11 0.115 0.12 0.125 0.13 0.135 0.14 0.145 0.15 0.155 0.16 0.165 0.17 0.175 0.18 0.185 0.19 0.195 0.2 0.205 0.21 0.215 0.22 0.225 0.23 0.235 0.24 0.245 0.25 0.255 0.26 0.265 0.27 0.275 0.28 0.285 0.29 0.295 0.3 0.305 0.31 0.315 0.32 0.325 0.33 0.335 0.34 0.345 0.35 0.355 0.36 0.365 0.37 0.375 0.38 0.385 0.39 0.395 0.4 0.405 0.41 0.415 0.42 0.425 0.43 0.435 0.44 0.445 0.45 0.455 0.46 0.465 0.47 0.475 0.48 0.485 0.49 0.495 0.5 0.505 0.51 0.515 0.52 0.525 0.53 0.535 0.54 0.545 0.55 0.555 0.56 0.565 0.57 0.575 0.58 0.585 0.59 0.595 0.6 0.605 0.61 0.615 0.62 0.625 0.63 0.635 0.64 0.645 0.65 0.655 0.66 0.665 0.67 0.675 0.68 0.685 0.69 0.695 0.7 0.705 0.71 0.715 0.72 0.725 0.73 0.735 0.74 0.745 0.75 0.755 0.76 0.765 0.77 0.775 0.78 0.785 0.79 0.795 0.8 0.805 0.81 0.815 0.82 0.825 0.83 0.835 0.84 0.845 0.85 0.855 0.86 0.865 0.87 0.875 0.88 0.885 0.89 0.895 0.9 0.905 0.91 0.915 0.92 0.925 0.93 0.935 0.94 0.945 0.95 0.955 0.96 0.965 0.97 0.975 0.98 0.985 0.99 0.995 \n"
     ]
    }
   ],
   "source": [
    "n_points = 200\n",
    "n_samples = 1\n",
    "vec_tauA = []\n",
    "for tauA_value in np.linspace(0.1, 100, n_points):\n",
    "\tfor n in range(n_samples):\n",
    "\t\tvec_tauA.append(tauA_value)\n",
    "\n",
    "vec_tauA = np.array(vec_tauA)\n",
    "\n",
    "EL = -60*mV\n",
    "EE = 0*mV\n",
    "EI = -80*mV\n",
    "alpha = 1\n",
    "tauN = 100*ms\n",
    "tauI = 10*ms\n",
    "tauL = 20*ms\n",
    "rate = 5\n",
    "\n",
    "eqs = '''\n",
    "dv/dt = ((EL - v) + gA*(EE - v) + gI*(EI - v))/tauL : volt\n",
    "dgA/dt = -gA/tauA : 1\n",
    "dgI/dt = -gI/tauI : 1\n",
    "tauA : second\n",
    "'''\n",
    "\n",
    "wE_list = [0.1, 1.0, 10]\n",
    "wI = 0.8\n",
    "mean_V_ta = {'tauA':vec_tauA, 0.1:np.zeros(n_points*n_samples), 1:np.zeros(n_points*n_samples), 10:np.zeros(n_points*n_samples)}\n",
    "var_V_ta = {'tauA':vec_tauA, 0.1:np.zeros(n_points*n_samples), 1:np.zeros(n_points*n_samples), 10:np.zeros(n_points*n_samples)}\n",
    "\n",
    "for wE in wE_list:\n",
    "\tprint(wE, end='\\t')\n",
    "\tfor i, tauA_value in enumerate(vec_tauA):\n",
    "\t\tstart_scope()\n",
    "\t\tdefaultclock.dt = 0.01*ms\n",
    "\t\tprint(i/size(vec_tauA), end=' ')\n",
    "\t\tG = NeuronGroup(1, eqs, method='rk4')\n",
    "\t\tGPE = PoissonGroup(400, rates=rate*Hz)\n",
    "\t\tGPI = PoissonGroup(100, rates=rate*Hz)\n",
    "\n",
    "\t\tSE = Synapses(GPE, G, 'w : 1', on_pre='gA += w')\n",
    "\t\tSI = Synapses(GPI, G, 'w : 1', on_pre='gI += w')\n",
    "\t\tSE.connect()\n",
    "\t\tSI.connect()\n",
    "\n",
    "\t\tG.v = EL\n",
    "\t\tSE.w = wE\n",
    "\t\tSI.w = wI\n",
    "\n",
    "\t\tG.tauA = tauA_value*ms\n",
    "\n",
    "\t\trun(5000*ms)\n",
    "\n",
    "\t\tM = StateMonitor(G, 'v', record=True)\n",
    "\t\t\n",
    "\t\trun(20000*ms)\n",
    "\n",
    "\t\tmean_V_ta[wE][i] = np.mean(M.v[0]/mV)\n",
    "\t\tvar_V_ta[wE][i] = np.var(M.v[0]/mV)\n",
    "\n",
    "\n",
    "\tprint()"
   ]
  },
  {
   "cell_type": "code",
   "execution_count": 4,
   "metadata": {},
   "outputs": [],
   "source": [
    "data_directory_path = \"../../Data/V_data/\"\n",
    "\n",
    "# Convert to pandas DataFrame\n",
    "df_mean_V_ta = pd.DataFrame.from_dict(mean_V_ta)\n",
    "df_var_V_ta = pd.DataFrame.from_dict(var_V_ta)\n",
    "\n",
    "\n",
    "# Save Dataframe do csv file\n",
    "df_mean_V_ta.to_csv(f\"{data_directory_path}mean_V_ta_wE_10.dat\")\n",
    "df_var_V_ta.to_csv(f\"{data_directory_path}var_V_ta_wE_10.dat\")"
   ]
  },
  {
   "cell_type": "code",
   "execution_count": 21,
   "metadata": {},
   "outputs": [
    {
     "data": {
      "text/plain": [
       "2500"
      ]
     },
     "execution_count": 21,
     "metadata": {},
     "output_type": "execute_result"
    }
   ],
   "source": [
    "mean_V_ta['tauA'].size"
   ]
  }
 ],
 "metadata": {
  "interpreter": {
   "hash": "815ffe0c3f450b1929060029d8bbc4bb978e145d9c20d51b98b455a88b55799b"
  },
  "kernelspec": {
   "display_name": "Python 3.9.2 64-bit ('worklab': conda)",
   "language": "python",
   "name": "python3"
  },
  "language_info": {
   "codemirror_mode": {
    "name": "ipython",
    "version": 3
   },
   "file_extension": ".py",
   "mimetype": "text/x-python",
   "name": "python",
   "nbconvert_exporter": "python",
   "pygments_lexer": "ipython3",
   "version": "3.10.0"
  },
  "orig_nbformat": 4
 },
 "nbformat": 4,
 "nbformat_minor": 2
}
